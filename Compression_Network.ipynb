{
  "cells": [
    {
      "cell_type": "code",
      "execution_count": null,
      "metadata": {
        "colab": {
          "base_uri": "https://localhost:8080/"
        },
        "id": "ysApKYweEtY_",
        "outputId": "d3d4e2af-5d89-4f5c-be0b-5cc99a3a3747"
      },
      "outputs": [
        {
          "output_type": "stream",
          "name": "stdout",
          "text": [
            "Cloning into 'LC-model-compression'...\n",
            "remote: Enumerating objects: 166, done.\u001b[K\n",
            "remote: Counting objects: 100% (166/166), done.\u001b[K\n",
            "remote: Compressing objects: 100% (121/121), done.\u001b[K\n",
            "remote: Total 166 (delta 63), reused 142 (delta 42), pack-reused 0\u001b[K\n",
            "Receiving objects: 100% (166/166), 3.19 MiB | 8.28 MiB/s, done.\n",
            "Resolving deltas: 100% (63/63), done.\n"
          ]
        }
      ],
      "source": [
        "! git clone https://github.com/UCMerced-ML/LC-model-compression"
      ]
    },
    {
      "cell_type": "code",
      "execution_count": null,
      "metadata": {
        "colab": {
          "base_uri": "https://localhost:8080/"
        },
        "id": "4evE8fzBE5tx",
        "outputId": "2855ab46-da05-4543-92ad-a729f5236475"
      },
      "outputs": [
        {
          "output_type": "stream",
          "name": "stdout",
          "text": [
            "Obtaining file:///content/LC-model-compression\n",
            "Requirement already satisfied: numpy>=1.16.2 in /usr/local/lib/python3.7/dist-packages (from lc==0.1) (1.19.5)\n",
            "Requirement already satisfied: scipy>=1.2.1 in /usr/local/lib/python3.7/dist-packages (from lc==0.1) (1.4.1)\n",
            "Requirement already satisfied: torch>=1.0.1 in /usr/local/lib/python3.7/dist-packages (from lc==0.1) (1.10.0+cu111)\n",
            "Requirement already satisfied: torchvision>=0.2.2 in /usr/local/lib/python3.7/dist-packages (from lc==0.1) (0.11.1+cu111)\n",
            "Requirement already satisfied: scikit-learn>=0.20.2 in /usr/local/lib/python3.7/dist-packages (from lc==0.1) (1.0.1)\n",
            "Requirement already satisfied: threadpoolctl>=2.0.0 in /usr/local/lib/python3.7/dist-packages (from scikit-learn>=0.20.2->lc==0.1) (3.0.0)\n",
            "Requirement already satisfied: joblib>=0.11 in /usr/local/lib/python3.7/dist-packages (from scikit-learn>=0.20.2->lc==0.1) (1.1.0)\n",
            "Requirement already satisfied: typing-extensions in /usr/local/lib/python3.7/dist-packages (from torch>=1.0.1->lc==0.1) (3.10.0.2)\n",
            "Requirement already satisfied: pillow!=8.3.0,>=5.3.0 in /usr/local/lib/python3.7/dist-packages (from torchvision>=0.2.2->lc==0.1) (7.1.2)\n",
            "Installing collected packages: lc\n",
            "  Running setup.py develop for lc\n",
            "Successfully installed lc-0.1\n",
            "Collecting utils\n",
            "  Downloading utils-1.0.1-py2.py3-none-any.whl (21 kB)\n",
            "Installing collected packages: utils\n",
            "Successfully installed utils-1.0.1\n"
          ]
        }
      ],
      "source": [
        "! pip3 install -e ./LC-model-compression\n",
        "! pip3 install utils"
      ]
    },
    {
      "cell_type": "markdown",
      "metadata": {
        "id": "zZWghZ11EXAD"
      },
      "source": [
        "## IMPORTANT!\n",
        "At this point you need to restart the runtime by doing \"Runtime => Restart Runtime\""
      ]
    },
    {
      "cell_type": "code",
      "execution_count": null,
      "metadata": {
        "id": "KUa0UHVaFId6"
      },
      "outputs": [],
      "source": [
        "import lc\n",
        "from lc.torch import ParameterTorch as Param, AsVector, AsIs\n",
        "from lc.compression_types import ConstraintL0Pruning, LowRank, RankSelection, AdaptiveQuantization\n",
        "from lc.models.torch.utils import LambdaLayer \n",
        "from lc.models.torch import lenet300_classic, lenet300_modern_drop, lenet300_modern\n",
        "from lc.models.torch.lenet5 import _weights_init\n",
        "\n",
        "# from utils import compute_acc_loss\n",
        "\n",
        "import utils\n",
        "import os\n",
        "import datetime\n",
        "import torch\n",
        "import scipy.io\n",
        "import tensorflow as tf\n",
        "import torch.nn.init as init\n",
        "import matplotlib.pyplot as plt\n",
        "import numpy as np\n",
        "from torch import nn\n",
        "from tqdm import tqdm\n",
        "from torch.utils.tensorboard import SummaryWriter\n",
        "from collections import OrderedDict\n",
        "from torch.nn.init import xavier_uniform_\n",
        "from scipy.io import loadmat\n",
        "from torch.utils.data import DataLoader\n",
        "from sklearn.model_selection import train_test_split\n",
        "\n",
        "import numpy as np\n",
        "\n",
        "import torch\n",
        "from torch import nn, optim\n",
        "from torch.utils.data import TensorDataset, DataLoader\n",
        "from torchvision import datasets\n",
        "torch.set_num_threads(4)"
      ]
    },
    {
      "cell_type": "code",
      "execution_count": null,
      "metadata": {
        "id": "NPBSdCKBGbRw"
      },
      "outputs": [],
      "source": [
        "def compute_acc_loss(forward_func, data_loader):\n",
        "    correct_cnt, ave_loss = 0, 0\n",
        "    for batch_idx, (x, target) in enumerate(data_loader):\n",
        "        with torch.no_grad():\n",
        "            target = target.cuda()\n",
        "            score, loss = forward_func(x.cuda(), target)\n",
        "            _, pred_label = torch.max(score.data, 1)\n",
        "            correct_cnt += (pred_label == target.data).sum().item()\n",
        "            ave_loss += loss.data.item() * len(x)\n",
        "    accuracy = correct_cnt * 1.0 / len(data_loader.dataset)\n",
        "    ave_loss /= len(data_loader.dataset)\n",
        "    return accuracy, ave_loss"
      ]
    },
    {
      "cell_type": "markdown",
      "metadata": {
        "id": "8ullumXeERo6"
      },
      "source": [
        "## Data\n",
        "We use the MNIST dataset for this demo. The dataset containssubtracted 28x28 grayscale images with digits from 0 to 9. The images are normalized to have grayscale value 0 to 1 and then mean is subtracted."
      ]
    },
    {
      "cell_type": "code",
      "execution_count": null,
      "metadata": {
        "colab": {
          "base_uri": "https://localhost:8080/",
          "height": 567,
          "referenced_widgets": [
            "bd69a3d50dff4b38a2d2a8ea77b8b129",
            "3c8263a6bf4c452ab4c698f88d5d942b",
            "ff69c51f9b2148fe85ec3d144d80d018",
            "d62ec63d92f741ae99472f07df61dc1e",
            "93b0d0c42bd84853baaaded9c972b4d8",
            "adacd08db9524854a0f9eb6280a8a946",
            "29613ad6c73540a4bf8251b43a0c6eb0",
            "13cc8b400cba4ff6b1ed608a47f693b6",
            "53c3944e004f47ec975497debb520462",
            "6916609746e34abc97e8aae89ee81bfc",
            "d21296c110a94237b4a3298a4d29b5a8",
            "6ec0eeb55f8f471eb266b53322cafb47",
            "50a635e60932401c9d89eabf30edc8ad",
            "670715db91e5410e90e107580fc9fffd",
            "0e50391709804f0da4c9afe5d5ca2f00",
            "f3b6db8f7667432986bba17e9b9a7028",
            "73eef2d881ab4913b1ecdc95e41d86c2",
            "8ac4530f26f44885aa882dc83b038e17",
            "2cec24abcb0c4ff5a5b069e10d615a72",
            "15bdadfa48924e90b1f20be9bd9161f5",
            "e1a7945323b9412fbd591d01d1b56cb3",
            "3bb969e20a8848899f132557300212ac",
            "05cec373fe954fc8af499a8bf24a97e2",
            "055c5d5d02da4e4f9273b5a3b8668f00",
            "047883a5288243d4b4da0ddd562ac698",
            "9f2950de3e0849f38827a0926e27b38f",
            "c97b7546b0fc4836bdb7f52b72fc9a6d",
            "7fb0572ac41a40c9a78cb81f7e899488",
            "fc0ec60e5b3148cbba69246aaadde95f",
            "5b2b158786ac4b74a2c38fb11cd6e150",
            "8e42d6178bac4626afa4d09889104e08",
            "7d1111381dca46ba8bedb80eb8d9f939",
            "64d2b48e564d4c3bb309240fd1c57da8",
            "d1a862f8506c4755ac649afe9e0702ae",
            "70047c9ba4ae4e3eac3259a2f3383b04",
            "c06661e174374ab399eeaf953ef67007",
            "8e92f32849ba4606b04e8ef3ac724607",
            "b5b275973dcc4dd0ad2fecd815fd42bf",
            "52fd90bdec40454c9ff85e7de474725b",
            "2bd90a634a5e419295ea302a13b46d45",
            "63fcec062b6d4fb1b9f2d01c868b5caa",
            "e623bf971d9b42d29177cc56b14160e7",
            "fecc322b85b24b40b3cbf96fb423b167",
            "9aba5659c11f49938ea987c6cf9e0e9b"
          ]
        },
        "id": "zk8La6_4EkLE",
        "outputId": "b7ca6243-5faf-478b-e2b0-ff8cfc7a1dd9"
      },
      "outputs": [
        {
          "output_type": "stream",
          "name": "stdout",
          "text": [
            "Downloading http://yann.lecun.com/exdb/mnist/train-images-idx3-ubyte.gz\n",
            "Downloading http://yann.lecun.com/exdb/mnist/train-images-idx3-ubyte.gz to ./datasets/MNIST/raw/train-images-idx3-ubyte.gz\n"
          ]
        },
        {
          "output_type": "display_data",
          "data": {
            "application/vnd.jupyter.widget-view+json": {
              "model_id": "bd69a3d50dff4b38a2d2a8ea77b8b129",
              "version_minor": 0,
              "version_major": 2
            },
            "text/plain": [
              "  0%|          | 0/9912422 [00:00<?, ?it/s]"
            ]
          },
          "metadata": {}
        },
        {
          "output_type": "stream",
          "name": "stdout",
          "text": [
            "Extracting ./datasets/MNIST/raw/train-images-idx3-ubyte.gz to ./datasets/MNIST/raw\n",
            "\n",
            "Downloading http://yann.lecun.com/exdb/mnist/train-labels-idx1-ubyte.gz\n",
            "Downloading http://yann.lecun.com/exdb/mnist/train-labels-idx1-ubyte.gz to ./datasets/MNIST/raw/train-labels-idx1-ubyte.gz\n"
          ]
        },
        {
          "output_type": "display_data",
          "data": {
            "application/vnd.jupyter.widget-view+json": {
              "model_id": "6ec0eeb55f8f471eb266b53322cafb47",
              "version_minor": 0,
              "version_major": 2
            },
            "text/plain": [
              "  0%|          | 0/28881 [00:00<?, ?it/s]"
            ]
          },
          "metadata": {}
        },
        {
          "output_type": "stream",
          "name": "stdout",
          "text": [
            "Extracting ./datasets/MNIST/raw/train-labels-idx1-ubyte.gz to ./datasets/MNIST/raw\n",
            "\n",
            "Downloading http://yann.lecun.com/exdb/mnist/t10k-images-idx3-ubyte.gz\n",
            "Downloading http://yann.lecun.com/exdb/mnist/t10k-images-idx3-ubyte.gz to ./datasets/MNIST/raw/t10k-images-idx3-ubyte.gz\n"
          ]
        },
        {
          "output_type": "display_data",
          "data": {
            "application/vnd.jupyter.widget-view+json": {
              "model_id": "05cec373fe954fc8af499a8bf24a97e2",
              "version_minor": 0,
              "version_major": 2
            },
            "text/plain": [
              "  0%|          | 0/1648877 [00:00<?, ?it/s]"
            ]
          },
          "metadata": {}
        },
        {
          "output_type": "stream",
          "name": "stdout",
          "text": [
            "Extracting ./datasets/MNIST/raw/t10k-images-idx3-ubyte.gz to ./datasets/MNIST/raw\n",
            "\n",
            "Downloading http://yann.lecun.com/exdb/mnist/t10k-labels-idx1-ubyte.gz\n",
            "Downloading http://yann.lecun.com/exdb/mnist/t10k-labels-idx1-ubyte.gz to ./datasets/MNIST/raw/t10k-labels-idx1-ubyte.gz\n"
          ]
        },
        {
          "output_type": "display_data",
          "data": {
            "application/vnd.jupyter.widget-view+json": {
              "model_id": "d1a862f8506c4755ac649afe9e0702ae",
              "version_minor": 0,
              "version_major": 2
            },
            "text/plain": [
              "  0%|          | 0/4542 [00:00<?, ?it/s]"
            ]
          },
          "metadata": {}
        },
        {
          "output_type": "stream",
          "name": "stdout",
          "text": [
            "Extracting ./datasets/MNIST/raw/t10k-labels-idx1-ubyte.gz to ./datasets/MNIST/raw\n",
            "\n"
          ]
        },
        {
          "output_type": "display_data",
          "data": {
            "image/png": "[encoded data removed]",
            "text/plain": [
              "<Figure size 720x360 with 5 Axes>"
            ]
          },
          "metadata": {}
        }
      ],
      "source": [
        "from matplotlib import pyplot as plt\n",
        "import warnings\n",
        "warnings.filterwarnings('ignore')\n",
        "plt.rcParams['figure.figsize'] = [10, 5]\n",
        "def show_MNIST_images():\n",
        "    train_data_th = datasets.MNIST(root='./datasets', download=True, train=True)\n",
        "    data_train = np.array(train_data_th.data[:])\n",
        "    targets = np.array(train_data_th.targets)\n",
        "    images_to_show = 5\n",
        "    random_indexes = np.random.randint(data_train.shape[0], size=images_to_show)\n",
        "    for i,ind in enumerate(random_indexes):\n",
        "        plt.subplot(1,images_to_show,i+1)\n",
        "        plt.imshow(data_train[ind], cmap='gray')\n",
        "        plt.xlabel(targets[ind])\n",
        "        plt.xticks([])\n",
        "        plt.yticks([])\n",
        "show_MNIST_images()"
      ]
    },
    {
      "cell_type": "code",
      "execution_count": null,
      "metadata": {
        "id": "CPxCPbyYEkqp"
      },
      "outputs": [],
      "source": [
        "def data_loader(batch_size=1024, n_workers=4):\n",
        "    train_data_th = datasets.MNIST(root='./datasets', download=True, train=True)\n",
        "    test_data_th = datasets.MNIST(root='./datasets', download=True, train=False)\n",
        "\n",
        "    data_train = np.array(train_data_th.data[:]).reshape([-1, 28 * 28]).astype(np.float32)\n",
        "    data_test = np.array(test_data_th.data[:]).reshape([-1, 28 * 28]).astype(np.float32)\n",
        "    data_train = (data_train / 255)\n",
        "    dtrain_mean = data_train.mean(axis=0)\n",
        "    data_train -= dtrain_mean\n",
        "    data_test = (data_test / 255).astype(np.float32)\n",
        "    data_test -= dtrain_mean\n",
        "\n",
        "    train_data = TensorDataset(torch.from_numpy(data_train), train_data_th.targets)\n",
        "    test_data = TensorDataset(torch.from_numpy(data_test), test_data_th.targets)\n",
        "\n",
        "    train_loader = DataLoader(train_data, num_workers=n_workers, batch_size=batch_size, shuffle=True,)\n",
        "    test_loader = DataLoader(test_data, num_workers=n_workers, batch_size=batch_size, shuffle=False)\n",
        "\n",
        "    return train_loader, test_loader"
      ]
    },
    {
      "cell_type": "markdown",
      "metadata": {
        "id": "uhEPh4zCEvgO"
      },
      "source": [
        "##Reference Network\n",
        "We use cuda capable GPU for our experiments. The network has 3 fully-connected layers with dimensions 784x300, 300x100, and 100x10, and the total of 266200 parameters (which includes biases). The network was trained to have a test error of 1.79%, which is pretty decent result but not as low as you can get with convolutional neural networks.\n"
      ]
    },
    {
      "cell_type": "code",
      "execution_count": null,
      "metadata": {
        "id": "VvFBm7snEnqe"
      },
      "outputs": [],
      "source": [
        "device = torch.device('cuda') "
      ]
    },
    {
      "cell_type": "code",
      "source": [
        "class LeNet5_mnist_subset(nn.Module):\n",
        "    \"\"\"\n",
        "    Pulled from https://github.com/UCMerced-ML/LC-model-compression/blob/master/lc/models/torch/lenet5.py\n",
        "    Changed 'layers' so that output is at 5 (for the subset)\n",
        "    \"\"\"\n",
        "    def __init__(self, dropout, nonlinearity):\n",
        "        super(LeNet5_mnist_subset, self).__init__()\n",
        "        self.special = True\n",
        "        filters = [(20, 5), (50, 5)]\n",
        "        layers = [(800, 500), (500, 5)]\n",
        "\n",
        "        cfg = []\n",
        "        cfg.append(['init_reshape', LambdaLayer(lambda x: x.view(x.size(0), 1,28,28))])\n",
        "        for i, f in enumerate(filters):\n",
        "            prev = 1 if i==0 else filters[i-1][0]\n",
        "            cfg.append(('compressible_' + str(i), nn.Conv2d(prev, f[0], f[1])))\n",
        "            cfg.append(('nonlineairy_'+str(i), nonlinearity()))\n",
        "            cfg.append(('maxpool_'+str(i), nn.MaxPool2d(kernel_size=(2,2), stride=2)))\n",
        "\n",
        "\n",
        "        cfg.append(['reshape', LambdaLayer(lambda x: x.view(x.size(0),-1))])\n",
        "        for i, l in enumerate(layers):\n",
        "            cfg.append(('compressible_' + str(i+len(filters)), nn.Linear(*l)))\n",
        "            if i != len(layers)-1:\n",
        "                # only non terminal layers have nonlinearity and (possible) dropouts\n",
        "                cfg.append(('nonlinearity_' + str(i+len(filters)), nonlinearity()))\n",
        "                if dropout:\n",
        "                    cfg.append(('drop_'+str(i+len(filters)), nn.Dropout()))\n",
        "\n",
        "        print(cfg)\n",
        "\n",
        "        self.output = nn.Sequential(OrderedDict(cfg))\n",
        "        self.loss = nn.CrossEntropyLoss()\n",
        "        self.apply(_weights_init)\n",
        "\n",
        "    def forward(self, input):\n",
        "        return self.output(input)"
      ],
      "metadata": {
        "id": "QnWQmnQ2PPXo"
      },
      "execution_count": null,
      "outputs": []
    },
    {
      "cell_type": "code",
      "execution_count": null,
      "metadata": {
        "id": "fVVvGuheE3wS"
      },
      "outputs": [],
      "source": [
        "def train_test_acc_eval_f(net):\n",
        "    train_loader, test_loader = data_loader()\n",
        "    def forward_func(x, target):\n",
        "        y = net(x)\n",
        "        return y, net.loss(y, target)\n",
        "    acc_train, loss_train = compute_acc_loss(forward_func, train_loader)\n",
        "    acc_test, loss_test = compute_acc_loss(forward_func, test_loader)\n",
        "\n",
        "    print(f\"Train err: {100-acc_train*100:.2f}%, train loss: {loss_train}\")\n",
        "    print(f\"TEST ERR: {100-acc_test*100:.2f}%, test loss: {loss_test}\")\n",
        "    \n",
        "def load_reference_lenet300():\n",
        "    net = LeNet5_mnist_subset(dropout=False, nonlinearity=lambda: nn.ReLU(True)).to(device)\n",
        "    # net = lenet300_modern().to(device)\n",
        "    # state_dict = torch.load('lenet300_modern_drop_wd.th')\n",
        "    # state_dict = torch.utils.model_zoo.load_url('https://ucmerced.box.com/shared/static/766axnc8qq429hiqqyqqo07ek46oqoxq.th')\n",
        "    # net.load_state_dict(state_dict)\n",
        "    return net"
      ]
    },
    {
      "cell_type": "code",
      "source": [
        "evals = load_reference_lenet300().eval()"
      ],
      "metadata": {
        "colab": {
          "base_uri": "https://localhost:8080/"
        },
        "id": "ur8DWXc6MMif",
        "outputId": "c09fb28b-bc57-4964-95d5-34f6661a9adb"
      },
      "execution_count": null,
      "outputs": [
        {
          "output_type": "stream",
          "name": "stdout",
          "text": [
            "[['init_reshape', LambdaLayer()], ('compressible_0', Conv2d(1, 20, kernel_size=(5, 5), stride=(1, 1))), ('nonlineairy_0', ReLU(inplace=True)), ('maxpool_0', MaxPool2d(kernel_size=(2, 2), stride=2, padding=0, dilation=1, ceil_mode=False)), ('compressible_1', Conv2d(20, 50, kernel_size=(5, 5), stride=(1, 1))), ('nonlineairy_1', ReLU(inplace=True)), ('maxpool_1', MaxPool2d(kernel_size=(2, 2), stride=2, padding=0, dilation=1, ceil_mode=False)), ['reshape', LambdaLayer()], ('compressible_2', Linear(in_features=800, out_features=500, bias=True)), ('nonlinearity_2', ReLU(inplace=True)), ('compressible_3', Linear(in_features=500, out_features=5, bias=True))]\n",
            "LambdaLayer\n",
            "Conv2d\n",
            "ReLU\n",
            "MaxPool2d\n",
            "Conv2d\n",
            "ReLU\n",
            "MaxPool2d\n",
            "LambdaLayer\n",
            "Linear\n",
            "ReLU\n",
            "Linear\n",
            "Sequential\n",
            "CrossEntropyLoss\n",
            "LeNet5_mnist_subset\n"
          ]
        }
      ]
    },
    {
      "cell_type": "code",
      "execution_count": null,
      "metadata": {
        "colab": {
          "base_uri": "https://localhost:8080/",
          "height": 608
        },
        "id": "FeA4mLF-E5Sw",
        "outputId": "cc6cf1bf-591f-422e-f13d-5b42f0c9ddf1"
      },
      "outputs": [
        {
          "output_type": "stream",
          "name": "stdout",
          "text": [
            "[['init_reshape', LambdaLayer()], ('compressible_0', Conv2d(1, 20, kernel_size=(5, 5), stride=(1, 1))), ('nonlineairy_0', ReLU(inplace=True)), ('maxpool_0', MaxPool2d(kernel_size=(2, 2), stride=2, padding=0, dilation=1, ceil_mode=False)), ('compressible_1', Conv2d(20, 50, kernel_size=(5, 5), stride=(1, 1))), ('nonlineairy_1', ReLU(inplace=True)), ('maxpool_1', MaxPool2d(kernel_size=(2, 2), stride=2, padding=0, dilation=1, ceil_mode=False)), ['reshape', LambdaLayer()], ('compressible_2', Linear(in_features=800, out_features=500, bias=True)), ('nonlinearity_2', ReLU(inplace=True)), ('compressible_3', Linear(in_features=500, out_features=5, bias=True))]\n",
            "LambdaLayer\n",
            "Conv2d\n",
            "ReLU\n",
            "MaxPool2d\n",
            "Conv2d\n",
            "ReLU\n",
            "MaxPool2d\n",
            "LambdaLayer\n",
            "Linear\n",
            "ReLU\n",
            "Linear\n",
            "Sequential\n",
            "CrossEntropyLoss\n",
            "LeNet5_mnist_subset\n"
          ]
        },
        {
          "output_type": "error",
          "ename": "RuntimeError",
          "evalue": "ignored",
          "traceback": [
            "\u001b[0;31m---------------------------------------------------------------------------\u001b[0m",
            "\u001b[0;31mRuntimeError\u001b[0m                              Traceback (most recent call last)",
            "\u001b[0;32m<ipython-input-9-2e27c4cd7d2a>\u001b[0m in \u001b[0;36m<module>\u001b[0;34m()\u001b[0m\n\u001b[1;32m      1\u001b[0m \u001b[0mos\u001b[0m\u001b[0;34m.\u001b[0m\u001b[0menviron\u001b[0m\u001b[0;34m[\u001b[0m\u001b[0;34m'CUDA_LAUNCH_BLOCKING'\u001b[0m\u001b[0;34m]\u001b[0m \u001b[0;34m=\u001b[0m \u001b[0;34m\"1\"\u001b[0m\u001b[0;34m\u001b[0m\u001b[0;34m\u001b[0m\u001b[0m\n\u001b[0;32m----> 2\u001b[0;31m \u001b[0mtrain_test_acc_eval_f\u001b[0m\u001b[0;34m(\u001b[0m\u001b[0mload_reference_lenet300\u001b[0m\u001b[0;34m(\u001b[0m\u001b[0;34m)\u001b[0m\u001b[0;34m.\u001b[0m\u001b[0meval\u001b[0m\u001b[0;34m(\u001b[0m\u001b[0;34m)\u001b[0m\u001b[0;34m)\u001b[0m\u001b[0;34m\u001b[0m\u001b[0;34m\u001b[0m\u001b[0m\n\u001b[0m",
            "\u001b[0;32m<ipython-input-7-faf34aa3d494>\u001b[0m in \u001b[0;36mtrain_test_acc_eval_f\u001b[0;34m(net)\u001b[0m\n\u001b[1;32m      4\u001b[0m         \u001b[0my\u001b[0m \u001b[0;34m=\u001b[0m \u001b[0mnet\u001b[0m\u001b[0;34m(\u001b[0m\u001b[0mx\u001b[0m\u001b[0;34m)\u001b[0m\u001b[0;34m\u001b[0m\u001b[0;34m\u001b[0m\u001b[0m\n\u001b[1;32m      5\u001b[0m         \u001b[0;32mreturn\u001b[0m \u001b[0my\u001b[0m\u001b[0;34m,\u001b[0m \u001b[0mnet\u001b[0m\u001b[0;34m.\u001b[0m\u001b[0mloss\u001b[0m\u001b[0;34m(\u001b[0m\u001b[0my\u001b[0m\u001b[0;34m,\u001b[0m \u001b[0mtarget\u001b[0m\u001b[0;34m)\u001b[0m\u001b[0;34m\u001b[0m\u001b[0;34m\u001b[0m\u001b[0m\n\u001b[0;32m----> 6\u001b[0;31m     \u001b[0macc_train\u001b[0m\u001b[0;34m,\u001b[0m \u001b[0mloss_train\u001b[0m \u001b[0;34m=\u001b[0m \u001b[0mcompute_acc_loss\u001b[0m\u001b[0;34m(\u001b[0m\u001b[0mforward_func\u001b[0m\u001b[0;34m,\u001b[0m \u001b[0mtrain_loader\u001b[0m\u001b[0;34m)\u001b[0m\u001b[0;34m\u001b[0m\u001b[0;34m\u001b[0m\u001b[0m\n\u001b[0m\u001b[1;32m      7\u001b[0m     \u001b[0macc_test\u001b[0m\u001b[0;34m,\u001b[0m \u001b[0mloss_test\u001b[0m \u001b[0;34m=\u001b[0m \u001b[0mcompute_acc_loss\u001b[0m\u001b[0;34m(\u001b[0m\u001b[0mforward_func\u001b[0m\u001b[0;34m,\u001b[0m \u001b[0mtest_loader\u001b[0m\u001b[0;34m)\u001b[0m\u001b[0;34m\u001b[0m\u001b[0;34m\u001b[0m\u001b[0m\n\u001b[1;32m      8\u001b[0m \u001b[0;34m\u001b[0m\u001b[0m\n",
            "\u001b[0;32m<ipython-input-2-3e1da1a549aa>\u001b[0m in \u001b[0;36mcompute_acc_loss\u001b[0;34m(forward_func, data_loader)\u001b[0m\n\u001b[1;32m      5\u001b[0m             \u001b[0mtarget\u001b[0m \u001b[0;34m=\u001b[0m \u001b[0mtarget\u001b[0m\u001b[0;34m.\u001b[0m\u001b[0mcuda\u001b[0m\u001b[0;34m(\u001b[0m\u001b[0;34m)\u001b[0m\u001b[0;34m\u001b[0m\u001b[0;34m\u001b[0m\u001b[0m\n\u001b[1;32m      6\u001b[0m             \u001b[0mscore\u001b[0m\u001b[0;34m,\u001b[0m \u001b[0mloss\u001b[0m \u001b[0;34m=\u001b[0m \u001b[0mforward_func\u001b[0m\u001b[0;34m(\u001b[0m\u001b[0mx\u001b[0m\u001b[0;34m.\u001b[0m\u001b[0mcuda\u001b[0m\u001b[0;34m(\u001b[0m\u001b[0;34m)\u001b[0m\u001b[0;34m,\u001b[0m \u001b[0mtarget\u001b[0m\u001b[0;34m)\u001b[0m\u001b[0;34m\u001b[0m\u001b[0;34m\u001b[0m\u001b[0m\n\u001b[0;32m----> 7\u001b[0;31m             \u001b[0m_\u001b[0m\u001b[0;34m,\u001b[0m \u001b[0mpred_label\u001b[0m \u001b[0;34m=\u001b[0m \u001b[0mtorch\u001b[0m\u001b[0;34m.\u001b[0m\u001b[0mmax\u001b[0m\u001b[0;34m(\u001b[0m\u001b[0mscore\u001b[0m\u001b[0;34m.\u001b[0m\u001b[0mdata\u001b[0m\u001b[0;34m,\u001b[0m \u001b[0;36m1\u001b[0m\u001b[0;34m)\u001b[0m\u001b[0;34m\u001b[0m\u001b[0;34m\u001b[0m\u001b[0m\n\u001b[0m\u001b[1;32m      8\u001b[0m             \u001b[0mcorrect_cnt\u001b[0m \u001b[0;34m+=\u001b[0m \u001b[0;34m(\u001b[0m\u001b[0mpred_label\u001b[0m \u001b[0;34m==\u001b[0m \u001b[0mtarget\u001b[0m\u001b[0;34m.\u001b[0m\u001b[0mdata\u001b[0m\u001b[0;34m)\u001b[0m\u001b[0;34m.\u001b[0m\u001b[0msum\u001b[0m\u001b[0;34m(\u001b[0m\u001b[0;34m)\u001b[0m\u001b[0;34m.\u001b[0m\u001b[0mitem\u001b[0m\u001b[0;34m(\u001b[0m\u001b[0;34m)\u001b[0m\u001b[0;34m\u001b[0m\u001b[0;34m\u001b[0m\u001b[0m\n\u001b[1;32m      9\u001b[0m             \u001b[0mave_loss\u001b[0m \u001b[0;34m+=\u001b[0m \u001b[0mloss\u001b[0m\u001b[0;34m.\u001b[0m\u001b[0mdata\u001b[0m\u001b[0;34m.\u001b[0m\u001b[0mitem\u001b[0m\u001b[0;34m(\u001b[0m\u001b[0;34m)\u001b[0m \u001b[0;34m*\u001b[0m \u001b[0mlen\u001b[0m\u001b[0;34m(\u001b[0m\u001b[0mx\u001b[0m\u001b[0;34m)\u001b[0m\u001b[0;34m\u001b[0m\u001b[0;34m\u001b[0m\u001b[0m\n",
            "\u001b[0;31mRuntimeError\u001b[0m: CUDA error: device-side assert triggered"
          ]
        }
      ],
      "source": [
        "os.environ['CUDA_LAUNCH_BLOCKING'] = \"1\"\n",
        "train_test_acc_eval_f(load_reference_lenet300().eval())"
      ]
    },
    {
      "cell_type": "markdown",
      "metadata": {
        "id": "uRouY3-VFJLB"
      },
      "source": [
        "## Compression using the LC toolkit\n",
        "### Step 1: L step\n",
        "We will use same L step with same hyperparamters for all our compression examples"
      ]
    },
    {
      "cell_type": "code",
      "execution_count": null,
      "metadata": {
        "id": "RG5iJunyFB4j"
      },
      "outputs": [],
      "source": [
        "def my_l_step(model, lc_penalty, step):\n",
        "    train_loader, test_loader = data_loader()\n",
        "    params = list(filter(lambda p: p.requires_grad, model.parameters()))\n",
        "    lr = 0.7*(0.98**step)\n",
        "    optimizer = optim.SGD(params, lr=lr, momentum=0.9, nesterov=True)\n",
        "    print(f'L-step #{step} with lr: {lr:.5f}')\n",
        "    epochs_per_step_ = 7\n",
        "    if step == 0:\n",
        "        epochs_per_step_ = epochs_per_step_ * 2\n",
        "    for epoch in range(epochs_per_step_):\n",
        "        avg_loss = []\n",
        "        for x, target in train_loader:\n",
        "            optimizer.zero_grad()\n",
        "            x = x.to(device)\n",
        "            target = target.to(dtype=torch.long, device=device)\n",
        "            out = model(x)\n",
        "            loss = model.loss(out, target) + lc_penalty()\n",
        "            avg_loss.append(loss.item())\n",
        "            loss.backward()\n",
        "            optimizer.step()\n",
        "\n",
        "        print(f\"\\tepoch #{epoch} is finished.\")\n",
        "        print(f\"\\t  avg. train loss: {np.mean(avg_loss):.6f}\")"
      ]
    },
    {
      "cell_type": "markdown",
      "metadata": {
        "id": "xxj7fpehFNAX"
      },
      "source": [
        "### Step 2: Schedule of mu values"
      ]
    },
    {
      "cell_type": "code",
      "execution_count": null,
      "metadata": {
        "id": "bmgVCpF_FLKc"
      },
      "outputs": [],
      "source": [
        "mu_s = [9e-5 * (1.1 ** n) for n in range(20)]\n",
        "# 20 L-C steps in total\n",
        "# total training epochs is 7 x 20 = 140"
      ]
    },
    {
      "cell_type": "markdown",
      "metadata": {
        "id": "eQuLZemkIRXZ"
      },
      "source": [
        "### Compression time! Pruning\n",
        "Let us prune all but 5% of the weights in the network (5% = 13310 weights)"
      ]
    },
    {
      "cell_type": "code",
      "execution_count": null,
      "metadata": {
        "id": "QXalSNwdFOcp"
      },
      "outputs": [],
      "source": [
        "net = load_reference_lenet300()\n",
        "\n",
        "layers = [lambda x=x: getattr(x, 'weight') for x in net.modules() if isinstance(x, nn.Linear)]\n",
        "compression_tasks = {\n",
        "    Param(layers, device): (AsVector, ConstraintL0Pruning(kappa=13310), 'pruning')\n",
        "}\n",
        "\n",
        "lc_alg = lc.Algorithm(\n",
        "    model=net,                            # model to compress\n",
        "    compression_tasks=compression_tasks,  # specifications of compression\n",
        "    l_step_optimization=my_l_step,        # implementation of L-step\n",
        "    mu_schedule=mu_s,                     # schedule of mu values\n",
        "    evaluation_func=train_test_acc_eval_f # evaluation function\n",
        ")\n",
        "lc_alg.run()                              # entry point to the LC algorithm"
      ]
    },
    {
      "cell_type": "code",
      "execution_count": null,
      "metadata": {
        "id": "eVSPVNhhamWJ"
      },
      "outputs": [],
      "source": [
        "lc_alg.count_params()"
      ]
    },
    {
      "cell_type": "code",
      "execution_count": null,
      "metadata": {
        "id": "bqxtsfdwapMX"
      },
      "outputs": [],
      "source": [
        "compressed_model_bits = lc_alg.count_param_bits() + (300+100+10)*32\n",
        "uncompressed_model_bits = (784*300+300*100+100*10 + 300 + 100 + 10)*32\n",
        "compression_ratio = uncompressed_model_bits/compressed_model_bits\n",
        "print(compression_ratio)"
      ]
    },
    {
      "cell_type": "markdown",
      "metadata": {
        "id": "3a0txepca0vz"
      },
      "source": [
        "Note that we were pruning 95% of the weights. Naively, you would assume 20x compression ratio (100%/5%), however, this is not the case. Firstly, there are some uncompressed parts (in this case biases), and, secondly, storing a compressed model requires additional metadata (in this case positions of non-zero elements). Therefore we get only 16x compression ratio (vs naively expected 20x). \n",
        "\n",
        "To prevent manual computation of compression ratio, let us create a function below. Note, this function is model specific."
      ]
    },
    {
      "cell_type": "code",
      "execution_count": null,
      "metadata": {
        "id": "rzgslnqLa4Bs"
      },
      "outputs": [],
      "source": [
        "def compute_compression_ratio(lc_alg):\n",
        "    compressed_model_bits = lc_alg.count_param_bits() + (300+100+10)*32\n",
        "    uncompressed_model_bits = (784*300+300*100+100*10 + 300 + 100 + 10)*32\n",
        "    compression_ratio = uncompressed_model_bits/compressed_model_bits\n",
        "    return compression_ratio"
      ]
    },
    {
      "cell_type": "markdown",
      "metadata": {
        "id": "_tT9Mdm-IT9w"
      },
      "source": [
        "### Quantization\n",
        "Now let us quantize each layer with its own codebook"
      ]
    },
    {
      "cell_type": "code",
      "execution_count": null,
      "metadata": {
        "id": "ndXQzWxcFQUs"
      },
      "outputs": [],
      "source": [
        "net = load_reference_lenet300()\n",
        "layers = [lambda x=x: getattr(x, 'weight') for x in net.modules() if isinstance(x, nn.Linear)]\n",
        "\n",
        "compression_tasks = {\n",
        "    Param(layers[0], device): (AsVector, AdaptiveQuantization(k=2), 'layer0_quant'),\n",
        "    Param(layers[1], device): (AsVector, AdaptiveQuantization(k=2), 'layer1_quant'),\n",
        "    Param(layers[2], device): (AsVector, AdaptiveQuantization(k=2), 'layer2_quant')\n",
        "}\n",
        "\n",
        "lc_alg = lc.Algorithm(\n",
        "    model=net,                            # model to compress\n",
        "    compression_tasks=compression_tasks,  # specifications of compression\n",
        "    l_step_optimization=my_l_step,        # implementation of L-step\n",
        "    mu_schedule=mu_s,                     # schedule of mu values\n",
        "    evaluation_func=train_test_acc_eval_f # evaluation function\n",
        ")\n",
        "lc_alg.run()  \n",
        "print('Compressed_params:', lc_alg.count_params())\n",
        "print('Compression_ratio:', compute_compression_ratio(lc_alg))"
      ]
    },
    {
      "cell_type": "markdown",
      "metadata": {
        "id": "jd9Y5YEKJCYh"
      },
      "source": [
        "### Mixing pruning, low rank, and quantization"
      ]
    },
    {
      "cell_type": "code",
      "execution_count": null,
      "metadata": {
        "id": "ReZIPzn3I8L8"
      },
      "outputs": [],
      "source": [
        "net = load_reference_lenet300()\n",
        "layers = [lambda x=x: getattr(x, 'weight') for x in net.modules() if isinstance(x, nn.Linear)]\n",
        "\n",
        "compression_tasks = {\n",
        "    Param(layers[0], device): (AsVector, ConstraintL0Pruning(kappa=5000), 'pruning'),\n",
        "    Param(layers[1], device): (AsIs, LowRank(target_rank=9, conv_scheme=None), 'low-rank'),\n",
        "    Param(layers[2], device): (AsVector, AdaptiveQuantization(k=2), 'quant')\n",
        "}\n",
        "\n",
        "lc_alg = lc.Algorithm(\n",
        "    model=net,                            # model to compress\n",
        "    compression_tasks=compression_tasks,  # specifications of compression\n",
        "    l_step_optimization=my_l_step,        # implementation of L-step\n",
        "    mu_schedule=mu_s,                     # schedule of mu values\n",
        "    evaluation_func=train_test_acc_eval_f # evaluation function\n",
        ")\n",
        "lc_alg.run()\n",
        "print('Compressed_params:', lc_alg.count_params())\n",
        "print('Compression_ratio:', compute_compression_ratio(lc_alg))"
      ]
    },
    {
      "cell_type": "markdown",
      "metadata": {
        "id": "08XSsmyEJG08"
      },
      "source": [
        "### Additive combination of Quantization and Pruning"
      ]
    },
    {
      "cell_type": "code",
      "execution_count": null,
      "metadata": {
        "id": "5nO4XSlpI-48"
      },
      "outputs": [],
      "source": [
        "net = load_reference_lenet300()\n",
        "layers = [lambda x=x: getattr(x, 'weight') for x in net.modules() if isinstance(x, nn.Linear)]\n",
        "\n",
        "compression_tasks = {\n",
        "    Param(layers, device): [\n",
        "        (AsVector, ConstraintL0Pruning(kappa=2662), 'pruning'),\n",
        "        (AsVector, AdaptiveQuantization(k=2), 'quant')\n",
        "    ]\n",
        "}\n",
        "\n",
        "lc_alg = lc.Algorithm(\n",
        "    model=net,                            # model to compress\n",
        "    compression_tasks=compression_tasks,  # specifications of compression\n",
        "    l_step_optimization=my_l_step,        # implementation of L-step\n",
        "    mu_schedule=mu_s,                     # schedule of mu values\n",
        "    evaluation_func=train_test_acc_eval_f # evaluation function\n",
        ")\n",
        "lc_alg.run()\n",
        "print('Compressed_params:', lc_alg.count_params())\n",
        "print('Compression_ratio:', compute_compression_ratio(lc_alg))"
      ]
    },
    {
      "cell_type": "markdown",
      "metadata": {
        "id": "dj7OJM3jKqW6"
      },
      "source": [
        "### Low-rank compression with automatic rank selection"
      ]
    },
    {
      "cell_type": "code",
      "execution_count": null,
      "metadata": {
        "id": "NyDPsLAVKq9X"
      },
      "outputs": [],
      "source": [
        "net = load_reference_lenet300()\n",
        "layers = [lambda x=x: getattr(x, 'weight') for x in net.modules() if isinstance(x, nn.Linear)]\n",
        "alpha=1e-9\n",
        "compression_tasks = {\n",
        "    Param(layers[0], device): (AsIs, RankSelection(conv_scheme='scheme_1', alpha=alpha, criterion='storage', module=layers[0], normalize=True), \"layer1_lr\"),\n",
        "    Param(layers[1], device): (AsIs, RankSelection(conv_scheme='scheme_1', alpha=alpha, criterion='storage', module=layers[1], normalize=True), \"layer2_lr\"),\n",
        "    Param(layers[2], device): (AsIs, RankSelection(conv_scheme='scheme_1', alpha=alpha, criterion='storage', module=layers[2], normalize=True), \"layer3_lr\")\n",
        "}\n",
        "\n",
        "lc_alg = lc.Algorithm(\n",
        "    model=net,                            # model to compress\n",
        "    compression_tasks=compression_tasks,  # specifications of compression\n",
        "    l_step_optimization=my_l_step,        # implementation of L-step\n",
        "    mu_schedule=mu_s,                     # schedule of mu values\n",
        "    evaluation_func=train_test_acc_eval_f # evaluation function\n",
        ")\n",
        "lc_alg.run()\n",
        "print('Compressed_params:', lc_alg.count_params())\n",
        "print('Compression_ratio:', compute_compression_ratio(lc_alg))"
      ]
    },
    {
      "cell_type": "markdown",
      "metadata": {
        "id": "s3FIQ2WWAfGw"
      },
      "source": [
        "### ScaledBinaryQuantization"
      ]
    },
    {
      "cell_type": "code",
      "execution_count": null,
      "metadata": {
        "id": "UeESVmskORN8"
      },
      "outputs": [],
      "source": [
        "from lc.compression_types import ScaledBinaryQuantization\n",
        "net = load_reference_lenet300()\n",
        "layers = [lambda x=x: getattr(x, 'weight') for x in net.modules() if isinstance(x, nn.Linear)]\n",
        "\n",
        "compression_tasks = {\n",
        "    Param(layers[0], device): (AsVector, ScaledBinaryQuantization(), 'layer0_quant'),\n",
        "    Param(layers[1], device): (AsVector, ScaledBinaryQuantization(), 'layer1_quant'),\n",
        "    Param(layers[2], device): (AsVector, ScaledBinaryQuantization(), 'layer2_quant')\n",
        "}\n",
        "\n",
        "lc_alg = lc.Algorithm(\n",
        "    model=net,                            # model to compress\n",
        "    compression_tasks=compression_tasks,  # specifications of compression\n",
        "    l_step_optimization=my_l_step,        # implementation of L-step\n",
        "    mu_schedule=mu_s,                     # schedule of mu values\n",
        "    evaluation_func=train_test_acc_eval_f # evaluation function\n",
        ")\n",
        "lc_alg.run()\n",
        "print('Compressed_params:', lc_alg.count_params())\n",
        "print('Compression_ratio:', compute_compression_ratio(lc_alg))"
      ]
    },
    {
      "cell_type": "markdown",
      "metadata": {
        "id": "ZJlVuYlAAeqh"
      },
      "source": [
        "### ScaledTernaryQuantization"
      ]
    },
    {
      "cell_type": "code",
      "execution_count": null,
      "metadata": {
        "id": "sWbz-VekApSw"
      },
      "outputs": [],
      "source": [
        "from lc.compression_types import ScaledTernaryQuantization\n",
        "net = load_reference_lenet300()\n",
        "layers = [lambda x=x: getattr(x, 'weight') for x in net.modules() if isinstance(x, nn.Linear)]\n",
        "\n",
        "compression_tasks = {\n",
        "    Param(layers[0], device): (AsVector, ScaledTernaryQuantization(), 'layer0_quant'),\n",
        "    Param(layers[1], device): (AsVector, ScaledTernaryQuantization(), 'layer1_quant'),\n",
        "    Param(layers[2], device): (AsVector, ScaledTernaryQuantization(), 'layer2_quant')\n",
        "}\n",
        "\n",
        "lc_alg = lc.Algorithm(\n",
        "    model=net,                            # model to compress\n",
        "    compression_tasks=compression_tasks,  # specifications of compression\n",
        "    l_step_optimization=my_l_step,        # implementation of L-step\n",
        "    mu_schedule=mu_s,                     # schedule of mu values\n",
        "    evaluation_func=train_test_acc_eval_f # evaluation function\n",
        ")\n",
        "lc_alg.run() \n",
        "print('Compressed_params:', lc_alg.count_params())\n",
        "print('Compression_ratio:', compute_compression_ratio(lc_alg))"
      ]
    }
  ],
  "metadata": {
    "accelerator": "GPU",
    "colab": {
      "collapsed_sections": [
        "xxj7fpehFNAX",
        "eQuLZemkIRXZ",
        "_tT9Mdm-IT9w",
        "jd9Y5YEKJCYh",
        "08XSsmyEJG08"
      ],
      "name": "Compression Network.ipynb",
      "provenance": [],
      "machine_shape": "hm"
    },
    "kernelspec": {
      "display_name": "Python 3",
      "name": "python3"
    },
    "language_info": {
      "name": "python"
    },
    "widgets": {
      "application/vnd.jupyter.widget-state+json": {
        "bd69a3d50dff4b38a2d2a8ea77b8b129": {
          "model_module": "@jupyter-widgets/controls",
          "model_name": "HBoxModel",
          "model_module_version": "1.5.0",
          "state": {
            "_view_name": "HBoxView",
            "_dom_classes": [],
            "_model_name": "HBoxModel",
            "_view_module": "@jupyter-widgets/controls",
            "_model_module_version": "1.5.0",
            "_view_count": null,
            "_view_module_version": "1.5.0",
            "box_style": "",
            "layout": "IPY_MODEL_3c8263a6bf4c452ab4c698f88d5d942b",
            "_model_module": "@jupyter-widgets/controls",
            "children": [
              "IPY_MODEL_ff69c51f9b2148fe85ec3d144d80d018",
              "IPY_MODEL_d62ec63d92f741ae99472f07df61dc1e",
              "IPY_MODEL_93b0d0c42bd84853baaaded9c972b4d8"
            ]
          }
        },
        "3c8263a6bf4c452ab4c698f88d5d942b": {
          "model_module": "@jupyter-widgets/base",
          "model_name": "LayoutModel",
          "model_module_version": "1.2.0",
          "state": {
            "_view_name": "LayoutView",
            "grid_template_rows": null,
            "right": null,
            "justify_content": null,
            "_view_module": "@jupyter-widgets/base",
            "overflow": null,
            "_model_module_version": "1.2.0",
            "_view_count": null,
            "flex_flow": null,
            "width": null,
            "min_width": null,
            "border": null,
            "align_items": null,
            "bottom": null,
            "_model_module": "@jupyter-widgets/base",
            "top": null,
            "grid_column": null,
            "overflow_y": null,
            "overflow_x": null,
            "grid_auto_flow": null,
            "grid_area": null,
            "grid_template_columns": null,
            "flex": null,
            "_model_name": "LayoutModel",
            "justify_items": null,
            "grid_row": null,
            "max_height": null,
            "align_content": null,
            "visibility": null,
            "align_self": null,
            "height": null,
            "min_height": null,
            "padding": null,
            "grid_auto_rows": null,
            "grid_gap": null,
            "max_width": null,
            "order": null,
            "_view_module_version": "1.2.0",
            "grid_template_areas": null,
            "object_position": null,
            "object_fit": null,
            "grid_auto_columns": null,
            "margin": null,
            "display": null,
            "left": null
          }
        },
        "ff69c51f9b2148fe85ec3d144d80d018": {
          "model_module": "@jupyter-widgets/controls",
          "model_name": "HTMLModel",
          "model_module_version": "1.5.0",
          "state": {
            "_view_name": "HTMLView",
            "style": "IPY_MODEL_adacd08db9524854a0f9eb6280a8a946",
            "_dom_classes": [],
            "description": "",
            "_model_name": "HTMLModel",
            "placeholder": "​",
            "_view_module": "@jupyter-widgets/controls",
            "_model_module_version": "1.5.0",
            "value": "",
            "_view_count": null,
            "_view_module_version": "1.5.0",
            "description_tooltip": null,
            "_model_module": "@jupyter-widgets/controls",
            "layout": "IPY_MODEL_29613ad6c73540a4bf8251b43a0c6eb0"
          }
        },
        "d62ec63d92f741ae99472f07df61dc1e": {
          "model_module": "@jupyter-widgets/controls",
          "model_name": "FloatProgressModel",
          "model_module_version": "1.5.0",
          "state": {
            "_view_name": "ProgressView",
            "style": "IPY_MODEL_13cc8b400cba4ff6b1ed608a47f693b6",
            "_dom_classes": [],
            "description": "",
            "_model_name": "FloatProgressModel",
            "bar_style": "success",
            "max": 9912422,
            "_view_module": "@jupyter-widgets/controls",
            "_model_module_version": "1.5.0",
            "value": 9912422,
            "_view_count": null,
            "_view_module_version": "1.5.0",
            "orientation": "horizontal",
            "min": 0,
            "description_tooltip": null,
            "_model_module": "@jupyter-widgets/controls",
            "layout": "IPY_MODEL_53c3944e004f47ec975497debb520462"
          }
        },
        "93b0d0c42bd84853baaaded9c972b4d8": {
          "model_module": "@jupyter-widgets/controls",
          "model_name": "HTMLModel",
          "model_module_version": "1.5.0",
          "state": {
            "_view_name": "HTMLView",
            "style": "IPY_MODEL_6916609746e34abc97e8aae89ee81bfc",
            "_dom_classes": [],
            "description": "",
            "_model_name": "HTMLModel",
            "placeholder": "​",
            "_view_module": "@jupyter-widgets/controls",
            "_model_module_version": "1.5.0",
            "value": " 9913344/? [00:00&lt;00:00, 26521438.58it/s]",
            "_view_count": null,
            "_view_module_version": "1.5.0",
            "description_tooltip": null,
            "_model_module": "@jupyter-widgets/controls",
            "layout": "IPY_MODEL_d21296c110a94237b4a3298a4d29b5a8"
          }
        },
        "adacd08db9524854a0f9eb6280a8a946": {
          "model_module": "@jupyter-widgets/controls",
          "model_name": "DescriptionStyleModel",
          "model_module_version": "1.5.0",
          "state": {
            "_view_name": "StyleView",
            "_model_name": "DescriptionStyleModel",
            "description_width": "",
            "_view_module": "@jupyter-widgets/base",
            "_model_module_version": "1.5.0",
            "_view_count": null,
            "_view_module_version": "1.2.0",
            "_model_module": "@jupyter-widgets/controls"
          }
        },
        "29613ad6c73540a4bf8251b43a0c6eb0": {
          "model_module": "@jupyter-widgets/base",
          "model_name": "LayoutModel",
          "model_module_version": "1.2.0",
          "state": {
            "_view_name": "LayoutView",
            "grid_template_rows": null,
            "right": null,
            "justify_content": null,
            "_view_module": "@jupyter-widgets/base",
            "overflow": null,
            "_model_module_version": "1.2.0",
            "_view_count": null,
            "flex_flow": null,
            "width": null,
            "min_width": null,
            "border": null,
            "align_items": null,
            "bottom": null,
            "_model_module": "@jupyter-widgets/base",
            "top": null,
            "grid_column": null,
            "overflow_y": null,
            "overflow_x": null,
            "grid_auto_flow": null,
            "grid_area": null,
            "grid_template_columns": null,
            "flex": null,
            "_model_name": "LayoutModel",
            "justify_items": null,
            "grid_row": null,
            "max_height": null,
            "align_content": null,
            "visibility": null,
            "align_self": null,
            "height": null,
            "min_height": null,
            "padding": null,
            "grid_auto_rows": null,
            "grid_gap": null,
            "max_width": null,
            "order": null,
            "_view_module_version": "1.2.0",
            "grid_template_areas": null,
            "object_position": null,
            "object_fit": null,
            "grid_auto_columns": null,
            "margin": null,
            "display": null,
            "left": null
          }
        },
        "13cc8b400cba4ff6b1ed608a47f693b6": {
          "model_module": "@jupyter-widgets/controls",
          "model_name": "ProgressStyleModel",
          "model_module_version": "1.5.0",
          "state": {
            "_view_name": "StyleView",
            "_model_name": "ProgressStyleModel",
            "description_width": "",
            "_view_module": "@jupyter-widgets/base",
            "_model_module_version": "1.5.0",
            "_view_count": null,
            "_view_module_version": "1.2.0",
            "bar_color": null,
            "_model_module": "@jupyter-widgets/controls"
          }
        },
        "53c3944e004f47ec975497debb520462": {
          "model_module": "@jupyter-widgets/base",
          "model_name": "LayoutModel",
          "model_module_version": "1.2.0",
          "state": {
            "_view_name": "LayoutView",
            "grid_template_rows": null,
            "right": null,
            "justify_content": null,
            "_view_module": "@jupyter-widgets/base",
            "overflow": null,
            "_model_module_version": "1.2.0",
            "_view_count": null,
            "flex_flow": null,
            "width": null,
            "min_width": null,
            "border": null,
            "align_items": null,
            "bottom": null,
            "_model_module": "@jupyter-widgets/base",
            "top": null,
            "grid_column": null,
            "overflow_y": null,
            "overflow_x": null,
            "grid_auto_flow": null,
            "grid_area": null,
            "grid_template_columns": null,
            "flex": null,
            "_model_name": "LayoutModel",
            "justify_items": null,
            "grid_row": null,
            "max_height": null,
            "align_content": null,
            "visibility": null,
            "align_self": null,
            "height": null,
            "min_height": null,
            "padding": null,
            "grid_auto_rows": null,
            "grid_gap": null,
            "max_width": null,
            "order": null,
            "_view_module_version": "1.2.0",
            "grid_template_areas": null,
            "object_position": null,
            "object_fit": null,
            "grid_auto_columns": null,
            "margin": null,
            "display": null,
            "left": null
          }
        },
        "6916609746e34abc97e8aae89ee81bfc": {
          "model_module": "@jupyter-widgets/controls",
          "model_name": "DescriptionStyleModel",
          "model_module_version": "1.5.0",
          "state": {
            "_view_name": "StyleView",
            "_model_name": "DescriptionStyleModel",
            "description_width": "",
            "_view_module": "@jupyter-widgets/base",
            "_model_module_version": "1.5.0",
            "_view_count": null,
            "_view_module_version": "1.2.0",
            "_model_module": "@jupyter-widgets/controls"
          }
        },
        "d21296c110a94237b4a3298a4d29b5a8": {
          "model_module": "@jupyter-widgets/base",
          "model_name": "LayoutModel",
          "model_module_version": "1.2.0",
          "state": {
            "_view_name": "LayoutView",
            "grid_template_rows": null,
            "right": null,
            "justify_content": null,
            "_view_module": "@jupyter-widgets/base",
            "overflow": null,
            "_model_module_version": "1.2.0",
            "_view_count": null,
            "flex_flow": null,
            "width": null,
            "min_width": null,
            "border": null,
            "align_items": null,
            "bottom": null,
            "_model_module": "@jupyter-widgets/base",
            "top": null,
            "grid_column": null,
            "overflow_y": null,
            "overflow_x": null,
            "grid_auto_flow": null,
            "grid_area": null,
            "grid_template_columns": null,
            "flex": null,
            "_model_name": "LayoutModel",
            "justify_items": null,
            "grid_row": null,
            "max_height": null,
            "align_content": null,
            "visibility": null,
            "align_self": null,
            "height": null,
            "min_height": null,
            "padding": null,
            "grid_auto_rows": null,
            "grid_gap": null,
            "max_width": null,
            "order": null,
            "_view_module_version": "1.2.0",
            "grid_template_areas": null,
            "object_position": null,
            "object_fit": null,
            "grid_auto_columns": null,
            "margin": null,
            "display": null,
            "left": null
          }
        },
        "6ec0eeb55f8f471eb266b53322cafb47": {
          "model_module": "@jupyter-widgets/controls",
          "model_name": "HBoxModel",
          "model_module_version": "1.5.0",
          "state": {
            "_view_name": "HBoxView",
            "_dom_classes": [],
            "_model_name": "HBoxModel",
            "_view_module": "@jupyter-widgets/controls",
            "_model_module_version": "1.5.0",
            "_view_count": null,
            "_view_module_version": "1.5.0",
            "box_style": "",
            "layout": "IPY_MODEL_50a635e60932401c9d89eabf30edc8ad",
            "_model_module": "@jupyter-widgets/controls",
            "children": [
              "IPY_MODEL_670715db91e5410e90e107580fc9fffd",
              "IPY_MODEL_0e50391709804f0da4c9afe5d5ca2f00",
              "IPY_MODEL_f3b6db8f7667432986bba17e9b9a7028"
            ]
          }
        },
        "50a635e60932401c9d89eabf30edc8ad": {
          "model_module": "@jupyter-widgets/base",
          "model_name": "LayoutModel",
          "model_module_version": "1.2.0",
          "state": {
            "_view_name": "LayoutView",
            "grid_template_rows": null,
            "right": null,
            "justify_content": null,
            "_view_module": "@jupyter-widgets/base",
            "overflow": null,
            "_model_module_version": "1.2.0",
            "_view_count": null,
            "flex_flow": null,
            "width": null,
            "min_width": null,
            "border": null,
            "align_items": null,
            "bottom": null,
            "_model_module": "@jupyter-widgets/base",
            "top": null,
            "grid_column": null,
            "overflow_y": null,
            "overflow_x": null,
            "grid_auto_flow": null,
            "grid_area": null,
            "grid_template_columns": null,
            "flex": null,
            "_model_name": "LayoutModel",
            "justify_items": null,
            "grid_row": null,
            "max_height": null,
            "align_content": null,
            "visibility": null,
            "align_self": null,
            "height": null,
            "min_height": null,
            "padding": null,
            "grid_auto_rows": null,
            "grid_gap": null,
            "max_width": null,
            "order": null,
            "_view_module_version": "1.2.0",
            "grid_template_areas": null,
            "object_position": null,
            "object_fit": null,
            "grid_auto_columns": null,
            "margin": null,
            "display": null,
            "left": null
          }
        },
        "670715db91e5410e90e107580fc9fffd": {
          "model_module": "@jupyter-widgets/controls",
          "model_name": "HTMLModel",
          "model_module_version": "1.5.0",
          "state": {
            "_view_name": "HTMLView",
            "style": "IPY_MODEL_73eef2d881ab4913b1ecdc95e41d86c2",
            "_dom_classes": [],
            "description": "",
            "_model_name": "HTMLModel",
            "placeholder": "​",
            "_view_module": "@jupyter-widgets/controls",
            "_model_module_version": "1.5.0",
            "value": "",
            "_view_count": null,
            "_view_module_version": "1.5.0",
            "description_tooltip": null,
            "_model_module": "@jupyter-widgets/controls",
            "layout": "IPY_MODEL_8ac4530f26f44885aa882dc83b038e17"
          }
        },
        "0e50391709804f0da4c9afe5d5ca2f00": {
          "model_module": "@jupyter-widgets/controls",
          "model_name": "FloatProgressModel",
          "model_module_version": "1.5.0",
          "state": {
            "_view_name": "ProgressView",
            "style": "IPY_MODEL_2cec24abcb0c4ff5a5b069e10d615a72",
            "_dom_classes": [],
            "description": "",
            "_model_name": "FloatProgressModel",
            "bar_style": "success",
            "max": 28881,
            "_view_module": "@jupyter-widgets/controls",
            "_model_module_version": "1.5.0",
            "value": 28881,
            "_view_count": null,
            "_view_module_version": "1.5.0",
            "orientation": "horizontal",
            "min": 0,
            "description_tooltip": null,
            "_model_module": "@jupyter-widgets/controls",
            "layout": "IPY_MODEL_15bdadfa48924e90b1f20be9bd9161f5"
          }
        },
        "f3b6db8f7667432986bba17e9b9a7028": {
          "model_module": "@jupyter-widgets/controls",
          "model_name": "HTMLModel",
          "model_module_version": "1.5.0",
          "state": {
            "_view_name": "HTMLView",
            "style": "IPY_MODEL_e1a7945323b9412fbd591d01d1b56cb3",
            "_dom_classes": [],
            "description": "",
            "_model_name": "HTMLModel",
            "placeholder": "​",
            "_view_module": "@jupyter-widgets/controls",
            "_model_module_version": "1.5.0",
            "value": " 29696/? [00:00&lt;00:00, 1136483.55it/s]",
            "_view_count": null,
            "_view_module_version": "1.5.0",
            "description_tooltip": null,
            "_model_module": "@jupyter-widgets/controls",
            "layout": "IPY_MODEL_3bb969e20a8848899f132557300212ac"
          }
        },
        "73eef2d881ab4913b1ecdc95e41d86c2": {
          "model_module": "@jupyter-widgets/controls",
          "model_name": "DescriptionStyleModel",
          "model_module_version": "1.5.0",
          "state": {
            "_view_name": "StyleView",
            "_model_name": "DescriptionStyleModel",
            "description_width": "",
            "_view_module": "@jupyter-widgets/base",
            "_model_module_version": "1.5.0",
            "_view_count": null,
            "_view_module_version": "1.2.0",
            "_model_module": "@jupyter-widgets/controls"
          }
        },
        "8ac4530f26f44885aa882dc83b038e17": {
          "model_module": "@jupyter-widgets/base",
          "model_name": "LayoutModel",
          "model_module_version": "1.2.0",
          "state": {
            "_view_name": "LayoutView",
            "grid_template_rows": null,
            "right": null,
            "justify_content": null,
            "_view_module": "@jupyter-widgets/base",
            "overflow": null,
            "_model_module_version": "1.2.0",
            "_view_count": null,
            "flex_flow": null,
            "width": null,
            "min_width": null,
            "border": null,
            "align_items": null,
            "bottom": null,
            "_model_module": "@jupyter-widgets/base",
            "top": null,
            "grid_column": null,
            "overflow_y": null,
            "overflow_x": null,
            "grid_auto_flow": null,
            "grid_area": null,
            "grid_template_columns": null,
            "flex": null,
            "_model_name": "LayoutModel",
            "justify_items": null,
            "grid_row": null,
            "max_height": null,
            "align_content": null,
            "visibility": null,
            "align_self": null,
            "height": null,
            "min_height": null,
            "padding": null,
            "grid_auto_rows": null,
            "grid_gap": null,
            "max_width": null,
            "order": null,
            "_view_module_version": "1.2.0",
            "grid_template_areas": null,
            "object_position": null,
            "object_fit": null,
            "grid_auto_columns": null,
            "margin": null,
            "display": null,
            "left": null
          }
        },
        "2cec24abcb0c4ff5a5b069e10d615a72": {
          "model_module": "@jupyter-widgets/controls",
          "model_name": "ProgressStyleModel",
          "model_module_version": "1.5.0",
          "state": {
            "_view_name": "StyleView",
            "_model_name": "ProgressStyleModel",
            "description_width": "",
            "_view_module": "@jupyter-widgets/base",
            "_model_module_version": "1.5.0",
            "_view_count": null,
            "_view_module_version": "1.2.0",
            "bar_color": null,
            "_model_module": "@jupyter-widgets/controls"
          }
        },
        "15bdadfa48924e90b1f20be9bd9161f5": {
          "model_module": "@jupyter-widgets/base",
          "model_name": "LayoutModel",
          "model_module_version": "1.2.0",
          "state": {
            "_view_name": "LayoutView",
            "grid_template_rows": null,
            "right": null,
            "justify_content": null,
            "_view_module": "@jupyter-widgets/base",
            "overflow": null,
            "_model_module_version": "1.2.0",
            "_view_count": null,
            "flex_flow": null,
            "width": null,
            "min_width": null,
            "border": null,
            "align_items": null,
            "bottom": null,
            "_model_module": "@jupyter-widgets/base",
            "top": null,
            "grid_column": null,
            "overflow_y": null,
            "overflow_x": null,
            "grid_auto_flow": null,
            "grid_area": null,
            "grid_template_columns": null,
            "flex": null,
            "_model_name": "LayoutModel",
            "justify_items": null,
            "grid_row": null,
            "max_height": null,
            "align_content": null,
            "visibility": null,
            "align_self": null,
            "height": null,
            "min_height": null,
            "padding": null,
            "grid_auto_rows": null,
            "grid_gap": null,
            "max_width": null,
            "order": null,
            "_view_module_version": "1.2.0",
            "grid_template_areas": null,
            "object_position": null,
            "object_fit": null,
            "grid_auto_columns": null,
            "margin": null,
            "display": null,
            "left": null
          }
        },
        "e1a7945323b9412fbd591d01d1b56cb3": {
          "model_module": "@jupyter-widgets/controls",
          "model_name": "DescriptionStyleModel",
          "model_module_version": "1.5.0",
          "state": {
            "_view_name": "StyleView",
            "_model_name": "DescriptionStyleModel",
            "description_width": "",
            "_view_module": "@jupyter-widgets/base",
            "_model_module_version": "1.5.0",
            "_view_count": null,
            "_view_module_version": "1.2.0",
            "_model_module": "@jupyter-widgets/controls"
          }
        },
        "3bb969e20a8848899f132557300212ac": {
          "model_module": "@jupyter-widgets/base",
          "model_name": "LayoutModel",
          "model_module_version": "1.2.0",
          "state": {
            "_view_name": "LayoutView",
            "grid_template_rows": null,
            "right": null,
            "justify_content": null,
            "_view_module": "@jupyter-widgets/base",
            "overflow": null,
            "_model_module_version": "1.2.0",
            "_view_count": null,
            "flex_flow": null,
            "width": null,
            "min_width": null,
            "border": null,
            "align_items": null,
            "bottom": null,
            "_model_module": "@jupyter-widgets/base",
            "top": null,
            "grid_column": null,
            "overflow_y": null,
            "overflow_x": null,
            "grid_auto_flow": null,
            "grid_area": null,
            "grid_template_columns": null,
            "flex": null,
            "_model_name": "LayoutModel",
            "justify_items": null,
            "grid_row": null,
            "max_height": null,
            "align_content": null,
            "visibility": null,
            "align_self": null,
            "height": null,
            "min_height": null,
            "padding": null,
            "grid_auto_rows": null,
            "grid_gap": null,
            "max_width": null,
            "order": null,
            "_view_module_version": "1.2.0",
            "grid_template_areas": null,
            "object_position": null,
            "object_fit": null,
            "grid_auto_columns": null,
            "margin": null,
            "display": null,
            "left": null
          }
        },
        "05cec373fe954fc8af499a8bf24a97e2": {
          "model_module": "@jupyter-widgets/controls",
          "model_name": "HBoxModel",
          "model_module_version": "1.5.0",
          "state": {
            "_view_name": "HBoxView",
            "_dom_classes": [],
            "_model_name": "HBoxModel",
            "_view_module": "@jupyter-widgets/controls",
            "_model_module_version": "1.5.0",
            "_view_count": null,
            "_view_module_version": "1.5.0",
            "box_style": "",
            "layout": "IPY_MODEL_055c5d5d02da4e4f9273b5a3b8668f00",
            "_model_module": "@jupyter-widgets/controls",
            "children": [
              "IPY_MODEL_047883a5288243d4b4da0ddd562ac698",
              "IPY_MODEL_9f2950de3e0849f38827a0926e27b38f",
              "IPY_MODEL_c97b7546b0fc4836bdb7f52b72fc9a6d"
            ]
          }
        },
        "055c5d5d02da4e4f9273b5a3b8668f00": {
          "model_module": "@jupyter-widgets/base",
          "model_name": "LayoutModel",
          "model_module_version": "1.2.0",
          "state": {
            "_view_name": "LayoutView",
            "grid_template_rows": null,
            "right": null,
            "justify_content": null,
            "_view_module": "@jupyter-widgets/base",
            "overflow": null,
            "_model_module_version": "1.2.0",
            "_view_count": null,
            "flex_flow": null,
            "width": null,
            "min_width": null,
            "border": null,
            "align_items": null,
            "bottom": null,
            "_model_module": "@jupyter-widgets/base",
            "top": null,
            "grid_column": null,
            "overflow_y": null,
            "overflow_x": null,
            "grid_auto_flow": null,
            "grid_area": null,
            "grid_template_columns": null,
            "flex": null,
            "_model_name": "LayoutModel",
            "justify_items": null,
            "grid_row": null,
            "max_height": null,
            "align_content": null,
            "visibility": null,
            "align_self": null,
            "height": null,
            "min_height": null,
            "padding": null,
            "grid_auto_rows": null,
            "grid_gap": null,
            "max_width": null,
            "order": null,
            "_view_module_version": "1.2.0",
            "grid_template_areas": null,
            "object_position": null,
            "object_fit": null,
            "grid_auto_columns": null,
            "margin": null,
            "display": null,
            "left": null
          }
        },
        "047883a5288243d4b4da0ddd562ac698": {
          "model_module": "@jupyter-widgets/controls",
          "model_name": "HTMLModel",
          "model_module_version": "1.5.0",
          "state": {
            "_view_name": "HTMLView",
            "style": "IPY_MODEL_7fb0572ac41a40c9a78cb81f7e899488",
            "_dom_classes": [],
            "description": "",
            "_model_name": "HTMLModel",
            "placeholder": "​",
            "_view_module": "@jupyter-widgets/controls",
            "_model_module_version": "1.5.0",
            "value": "",
            "_view_count": null,
            "_view_module_version": "1.5.0",
            "description_tooltip": null,
            "_model_module": "@jupyter-widgets/controls",
            "layout": "IPY_MODEL_fc0ec60e5b3148cbba69246aaadde95f"
          }
        },
        "9f2950de3e0849f38827a0926e27b38f": {
          "model_module": "@jupyter-widgets/controls",
          "model_name": "FloatProgressModel",
          "model_module_version": "1.5.0",
          "state": {
            "_view_name": "ProgressView",
            "style": "IPY_MODEL_5b2b158786ac4b74a2c38fb11cd6e150",
            "_dom_classes": [],
            "description": "",
            "_model_name": "FloatProgressModel",
            "bar_style": "success",
            "max": 1648877,
            "_view_module": "@jupyter-widgets/controls",
            "_model_module_version": "1.5.0",
            "value": 1648877,
            "_view_count": null,
            "_view_module_version": "1.5.0",
            "orientation": "horizontal",
            "min": 0,
            "description_tooltip": null,
            "_model_module": "@jupyter-widgets/controls",
            "layout": "IPY_MODEL_8e42d6178bac4626afa4d09889104e08"
          }
        },
        "c97b7546b0fc4836bdb7f52b72fc9a6d": {
          "model_module": "@jupyter-widgets/controls",
          "model_name": "HTMLModel",
          "model_module_version": "1.5.0",
          "state": {
            "_view_name": "HTMLView",
            "style": "IPY_MODEL_7d1111381dca46ba8bedb80eb8d9f939",
            "_dom_classes": [],
            "description": "",
            "_model_name": "HTMLModel",
            "placeholder": "​",
            "_view_module": "@jupyter-widgets/controls",
            "_model_module_version": "1.5.0",
            "value": " 1649664/? [00:00&lt;00:00, 6659618.64it/s]",
            "_view_count": null,
            "_view_module_version": "1.5.0",
            "description_tooltip": null,
            "_model_module": "@jupyter-widgets/controls",
            "layout": "IPY_MODEL_64d2b48e564d4c3bb309240fd1c57da8"
          }
        },
        "7fb0572ac41a40c9a78cb81f7e899488": {
          "model_module": "@jupyter-widgets/controls",
          "model_name": "DescriptionStyleModel",
          "model_module_version": "1.5.0",
          "state": {
            "_view_name": "StyleView",
            "_model_name": "DescriptionStyleModel",
            "description_width": "",
            "_view_module": "@jupyter-widgets/base",
            "_model_module_version": "1.5.0",
            "_view_count": null,
            "_view_module_version": "1.2.0",
            "_model_module": "@jupyter-widgets/controls"
          }
        },
        "fc0ec60e5b3148cbba69246aaadde95f": {
          "model_module": "@jupyter-widgets/base",
          "model_name": "LayoutModel",
          "model_module_version": "1.2.0",
          "state": {
            "_view_name": "LayoutView",
            "grid_template_rows": null,
            "right": null,
            "justify_content": null,
            "_view_module": "@jupyter-widgets/base",
            "overflow": null,
            "_model_module_version": "1.2.0",
            "_view_count": null,
            "flex_flow": null,
            "width": null,
            "min_width": null,
            "border": null,
            "align_items": null,
            "bottom": null,
            "_model_module": "@jupyter-widgets/base",
            "top": null,
            "grid_column": null,
            "overflow_y": null,
            "overflow_x": null,
            "grid_auto_flow": null,
            "grid_area": null,
            "grid_template_columns": null,
            "flex": null,
            "_model_name": "LayoutModel",
            "justify_items": null,
            "grid_row": null,
            "max_height": null,
            "align_content": null,
            "visibility": null,
            "align_self": null,
            "height": null,
            "min_height": null,
            "padding": null,
            "grid_auto_rows": null,
            "grid_gap": null,
            "max_width": null,
            "order": null,
            "_view_module_version": "1.2.0",
            "grid_template_areas": null,
            "object_position": null,
            "object_fit": null,
            "grid_auto_columns": null,
            "margin": null,
            "display": null,
            "left": null
          }
        },
        "5b2b158786ac4b74a2c38fb11cd6e150": {
          "model_module": "@jupyter-widgets/controls",
          "model_name": "ProgressStyleModel",
          "model_module_version": "1.5.0",
          "state": {
            "_view_name": "StyleView",
            "_model_name": "ProgressStyleModel",
            "description_width": "",
            "_view_module": "@jupyter-widgets/base",
            "_model_module_version": "1.5.0",
            "_view_count": null,
            "_view_module_version": "1.2.0",
            "bar_color": null,
            "_model_module": "@jupyter-widgets/controls"
          }
        },
        "8e42d6178bac4626afa4d09889104e08": {
          "model_module": "@jupyter-widgets/base",
          "model_name": "LayoutModel",
          "model_module_version": "1.2.0",
          "state": {
            "_view_name": "LayoutView",
            "grid_template_rows": null,
            "right": null,
            "justify_content": null,
            "_view_module": "@jupyter-widgets/base",
            "overflow": null,
            "_model_module_version": "1.2.0",
            "_view_count": null,
            "flex_flow": null,
            "width": null,
            "min_width": null,
            "border": null,
            "align_items": null,
            "bottom": null,
            "_model_module": "@jupyter-widgets/base",
            "top": null,
            "grid_column": null,
            "overflow_y": null,
            "overflow_x": null,
            "grid_auto_flow": null,
            "grid_area": null,
            "grid_template_columns": null,
            "flex": null,
            "_model_name": "LayoutModel",
            "justify_items": null,
            "grid_row": null,
            "max_height": null,
            "align_content": null,
            "visibility": null,
            "align_self": null,
            "height": null,
            "min_height": null,
            "padding": null,
            "grid_auto_rows": null,
            "grid_gap": null,
            "max_width": null,
            "order": null,
            "_view_module_version": "1.2.0",
            "grid_template_areas": null,
            "object_position": null,
            "object_fit": null,
            "grid_auto_columns": null,
            "margin": null,
            "display": null,
            "left": null
          }
        },
        "7d1111381dca46ba8bedb80eb8d9f939": {
          "model_module": "@jupyter-widgets/controls",
          "model_name": "DescriptionStyleModel",
          "model_module_version": "1.5.0",
          "state": {
            "_view_name": "StyleView",
            "_model_name": "DescriptionStyleModel",
            "description_width": "",
            "_view_module": "@jupyter-widgets/base",
            "_model_module_version": "1.5.0",
            "_view_count": null,
            "_view_module_version": "1.2.0",
            "_model_module": "@jupyter-widgets/controls"
          }
        },
        "64d2b48e564d4c3bb309240fd1c57da8": {
          "model_module": "@jupyter-widgets/base",
          "model_name": "LayoutModel",
          "model_module_version": "1.2.0",
          "state": {
            "_view_name": "LayoutView",
            "grid_template_rows": null,
            "right": null,
            "justify_content": null,
            "_view_module": "@jupyter-widgets/base",
            "overflow": null,
            "_model_module_version": "1.2.0",
            "_view_count": null,
            "flex_flow": null,
            "width": null,
            "min_width": null,
            "border": null,
            "align_items": null,
            "bottom": null,
            "_model_module": "@jupyter-widgets/base",
            "top": null,
            "grid_column": null,
            "overflow_y": null,
            "overflow_x": null,
            "grid_auto_flow": null,
            "grid_area": null,
            "grid_template_columns": null,
            "flex": null,
            "_model_name": "LayoutModel",
            "justify_items": null,
            "grid_row": null,
            "max_height": null,
            "align_content": null,
            "visibility": null,
            "align_self": null,
            "height": null,
            "min_height": null,
            "padding": null,
            "grid_auto_rows": null,
            "grid_gap": null,
            "max_width": null,
            "order": null,
            "_view_module_version": "1.2.0",
            "grid_template_areas": null,
            "object_position": null,
            "object_fit": null,
            "grid_auto_columns": null,
            "margin": null,
            "display": null,
            "left": null
          }
        },
        "d1a862f8506c4755ac649afe9e0702ae": {
          "model_module": "@jupyter-widgets/controls",
          "model_name": "HBoxModel",
          "model_module_version": "1.5.0",
          "state": {
            "_view_name": "HBoxView",
            "_dom_classes": [],
            "_model_name": "HBoxModel",
            "_view_module": "@jupyter-widgets/controls",
            "_model_module_version": "1.5.0",
            "_view_count": null,
            "_view_module_version": "1.5.0",
            "box_style": "",
            "layout": "IPY_MODEL_70047c9ba4ae4e3eac3259a2f3383b04",
            "_model_module": "@jupyter-widgets/controls",
            "children": [
              "IPY_MODEL_c06661e174374ab399eeaf953ef67007",
              "IPY_MODEL_8e92f32849ba4606b04e8ef3ac724607",
              "IPY_MODEL_b5b275973dcc4dd0ad2fecd815fd42bf"
            ]
          }
        },
        "70047c9ba4ae4e3eac3259a2f3383b04": {
          "model_module": "@jupyter-widgets/base",
          "model_name": "LayoutModel",
          "model_module_version": "1.2.0",
          "state": {
            "_view_name": "LayoutView",
            "grid_template_rows": null,
            "right": null,
            "justify_content": null,
            "_view_module": "@jupyter-widgets/base",
            "overflow": null,
            "_model_module_version": "1.2.0",
            "_view_count": null,
            "flex_flow": null,
            "width": null,
            "min_width": null,
            "border": null,
            "align_items": null,
            "bottom": null,
            "_model_module": "@jupyter-widgets/base",
            "top": null,
            "grid_column": null,
            "overflow_y": null,
            "overflow_x": null,
            "grid_auto_flow": null,
            "grid_area": null,
            "grid_template_columns": null,
            "flex": null,
            "_model_name": "LayoutModel",
            "justify_items": null,
            "grid_row": null,
            "max_height": null,
            "align_content": null,
            "visibility": null,
            "align_self": null,
            "height": null,
            "min_height": null,
            "padding": null,
            "grid_auto_rows": null,
            "grid_gap": null,
            "max_width": null,
            "order": null,
            "_view_module_version": "1.2.0",
            "grid_template_areas": null,
            "object_position": null,
            "object_fit": null,
            "grid_auto_columns": null,
            "margin": null,
            "display": null,
            "left": null
          }
        },
        "c06661e174374ab399eeaf953ef67007": {
          "model_module": "@jupyter-widgets/controls",
          "model_name": "HTMLModel",
          "model_module_version": "1.5.0",
          "state": {
            "_view_name": "HTMLView",
            "style": "IPY_MODEL_52fd90bdec40454c9ff85e7de474725b",
            "_dom_classes": [],
            "description": "",
            "_model_name": "HTMLModel",
            "placeholder": "​",
            "_view_module": "@jupyter-widgets/controls",
            "_model_module_version": "1.5.0",
            "value": "",
            "_view_count": null,
            "_view_module_version": "1.5.0",
            "description_tooltip": null,
            "_model_module": "@jupyter-widgets/controls",
            "layout": "IPY_MODEL_2bd90a634a5e419295ea302a13b46d45"
          }
        },
        "8e92f32849ba4606b04e8ef3ac724607": {
          "model_module": "@jupyter-widgets/controls",
          "model_name": "FloatProgressModel",
          "model_module_version": "1.5.0",
          "state": {
            "_view_name": "ProgressView",
            "style": "IPY_MODEL_63fcec062b6d4fb1b9f2d01c868b5caa",
            "_dom_classes": [],
            "description": "",
            "_model_name": "FloatProgressModel",
            "bar_style": "success",
            "max": 4542,
            "_view_module": "@jupyter-widgets/controls",
            "_model_module_version": "1.5.0",
            "value": 4542,
            "_view_count": null,
            "_view_module_version": "1.5.0",
            "orientation": "horizontal",
            "min": 0,
            "description_tooltip": null,
            "_model_module": "@jupyter-widgets/controls",
            "layout": "IPY_MODEL_e623bf971d9b42d29177cc56b14160e7"
          }
        },
        "b5b275973dcc4dd0ad2fecd815fd42bf": {
          "model_module": "@jupyter-widgets/controls",
          "model_name": "HTMLModel",
          "model_module_version": "1.5.0",
          "state": {
            "_view_name": "HTMLView",
            "style": "IPY_MODEL_fecc322b85b24b40b3cbf96fb423b167",
            "_dom_classes": [],
            "description": "",
            "_model_name": "HTMLModel",
            "placeholder": "​",
            "_view_module": "@jupyter-widgets/controls",
            "_model_module_version": "1.5.0",
            "value": " 5120/? [00:00&lt;00:00, 188695.22it/s]",
            "_view_count": null,
            "_view_module_version": "1.5.0",
            "description_tooltip": null,
            "_model_module": "@jupyter-widgets/controls",
            "layout": "IPY_MODEL_9aba5659c11f49938ea987c6cf9e0e9b"
          }
        },
        "52fd90bdec40454c9ff85e7de474725b": {
          "model_module": "@jupyter-widgets/controls",
          "model_name": "DescriptionStyleModel",
          "model_module_version": "1.5.0",
          "state": {
            "_view_name": "StyleView",
            "_model_name": "DescriptionStyleModel",
            "description_width": "",
            "_view_module": "@jupyter-widgets/base",
            "_model_module_version": "1.5.0",
            "_view_count": null,
            "_view_module_version": "1.2.0",
            "_model_module": "@jupyter-widgets/controls"
          }
        },
        "2bd90a634a5e419295ea302a13b46d45": {
          "model_module": "@jupyter-widgets/base",
          "model_name": "LayoutModel",
          "model_module_version": "1.2.0",
          "state": {
            "_view_name": "LayoutView",
            "grid_template_rows": null,
            "right": null,
            "justify_content": null,
            "_view_module": "@jupyter-widgets/base",
            "overflow": null,
            "_model_module_version": "1.2.0",
            "_view_count": null,
            "flex_flow": null,
            "width": null,
            "min_width": null,
            "border": null,
            "align_items": null,
            "bottom": null,
            "_model_module": "@jupyter-widgets/base",
            "top": null,
            "grid_column": null,
            "overflow_y": null,
            "overflow_x": null,
            "grid_auto_flow": null,
            "grid_area": null,
            "grid_template_columns": null,
            "flex": null,
            "_model_name": "LayoutModel",
            "justify_items": null,
            "grid_row": null,
            "max_height": null,
            "align_content": null,
            "visibility": null,
            "align_self": null,
            "height": null,
            "min_height": null,
            "padding": null,
            "grid_auto_rows": null,
            "grid_gap": null,
            "max_width": null,
            "order": null,
            "_view_module_version": "1.2.0",
            "grid_template_areas": null,
            "object_position": null,
            "object_fit": null,
            "grid_auto_columns": null,
            "margin": null,
            "display": null,
            "left": null
          }
        },
        "63fcec062b6d4fb1b9f2d01c868b5caa": {
          "model_module": "@jupyter-widgets/controls",
          "model_name": "ProgressStyleModel",
          "model_module_version": "1.5.0",
          "state": {
            "_view_name": "StyleView",
            "_model_name": "ProgressStyleModel",
            "description_width": "",
            "_view_module": "@jupyter-widgets/base",
            "_model_module_version": "1.5.0",
            "_view_count": null,
            "_view_module_version": "1.2.0",
            "bar_color": null,
            "_model_module": "@jupyter-widgets/controls"
          }
        },
        "e623bf971d9b42d29177cc56b14160e7": {
          "model_module": "@jupyter-widgets/base",
          "model_name": "LayoutModel",
          "model_module_version": "1.2.0",
          "state": {
            "_view_name": "LayoutView",
            "grid_template_rows": null,
            "right": null,
            "justify_content": null,
            "_view_module": "@jupyter-widgets/base",
            "overflow": null,
            "_model_module_version": "1.2.0",
            "_view_count": null,
            "flex_flow": null,
            "width": null,
            "min_width": null,
            "border": null,
            "align_items": null,
            "bottom": null,
            "_model_module": "@jupyter-widgets/base",
            "top": null,
            "grid_column": null,
            "overflow_y": null,
            "overflow_x": null,
            "grid_auto_flow": null,
            "grid_area": null,
            "grid_template_columns": null,
            "flex": null,
            "_model_name": "LayoutModel",
            "justify_items": null,
            "grid_row": null,
            "max_height": null,
            "align_content": null,
            "visibility": null,
            "align_self": null,
            "height": null,
            "min_height": null,
            "padding": null,
            "grid_auto_rows": null,
            "grid_gap": null,
            "max_width": null,
            "order": null,
            "_view_module_version": "1.2.0",
            "grid_template_areas": null,
            "object_position": null,
            "object_fit": null,
            "grid_auto_columns": null,
            "margin": null,
            "display": null,
            "left": null
          }
        },
        "fecc322b85b24b40b3cbf96fb423b167": {
          "model_module": "@jupyter-widgets/controls",
          "model_name": "DescriptionStyleModel",
          "model_module_version": "1.5.0",
          "state": {
            "_view_name": "StyleView",
            "_model_name": "DescriptionStyleModel",
            "description_width": "",
            "_view_module": "@jupyter-widgets/base",
            "_model_module_version": "1.5.0",
            "_view_count": null,
            "_view_module_version": "1.2.0",
            "_model_module": "@jupyter-widgets/controls"
          }
        },
        "9aba5659c11f49938ea987c6cf9e0e9b": {
          "model_module": "@jupyter-widgets/base",
          "model_name": "LayoutModel",
          "model_module_version": "1.2.0",
          "state": {
            "_view_name": "LayoutView",
            "grid_template_rows": null,
            "right": null,
            "justify_content": null,
            "_view_module": "@jupyter-widgets/base",
            "overflow": null,
            "_model_module_version": "1.2.0",
            "_view_count": null,
            "flex_flow": null,
            "width": null,
            "min_width": null,
            "border": null,
            "align_items": null,
            "bottom": null,
            "_model_module": "@jupyter-widgets/base",
            "top": null,
            "grid_column": null,
            "overflow_y": null,
            "overflow_x": null,
            "grid_auto_flow": null,
            "grid_area": null,
            "grid_template_columns": null,
            "flex": null,
            "_model_name": "LayoutModel",
            "justify_items": null,
            "grid_row": null,
            "max_height": null,
            "align_content": null,
            "visibility": null,
            "align_self": null,
            "height": null,
            "min_height": null,
            "padding": null,
            "grid_auto_rows": null,
            "grid_gap": null,
            "max_width": null,
            "order": null,
            "_view_module_version": "1.2.0",
            "grid_template_areas": null,
            "object_position": null,
            "object_fit": null,
            "grid_auto_columns": null,
            "margin": null,
            "display": null,
            "left": null
          }
        }
      }
    }
  },
  "nbformat": 4,
  "nbformat_minor": 0
}