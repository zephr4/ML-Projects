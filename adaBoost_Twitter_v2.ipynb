{
  "cells": [
    {
      "cell_type": "code",
      "execution_count": null,
      "metadata": {
        "colab": {
          "base_uri": "https://localhost:8080/"
        },
        "id": "f5K7mo3bcF9h",
        "outputId": "c839719f-ff85-473e-b201-bf63f392b678"
      },
      "outputs": [
        {
          "name": "stdout",
          "output_type": "stream",
          "text": [
            "--2021-12-14 23:24:35--  https://archive.ics.uci.edu/ml/machine-learning-databases/00248/regression.tar.gz\n",
            "Resolving archive.ics.uci.edu (archive.ics.uci.edu)... 128.195.10.252\n",
            "Connecting to archive.ics.uci.edu (archive.ics.uci.edu)|128.195.10.252|:443... connected.\n",
            "HTTP request sent, awaiting response... 200 OK\n",
            "Length: 34912829 (33M) [application/x-httpd-php]\n",
            "Saving to: ‘/content/data/regression.tar.gz’\n",
            "\n",
            "regression.tar.gz   100%[===================>]  33.29M  62.2MB/s    in 0.5s    \n",
            "\n",
            "2021-12-14 23:24:36 (62.2 MB/s) - ‘/content/data/regression.tar.gz’ saved [34912829/34912829]\n",
            "\n"
          ]
        }
      ],
      "source": [
        "!wget -P /content/data https://archive.ics.uci.edu/ml/machine-learning-databases/00248/regression.tar.gz"
      ]
    },
    {
      "cell_type": "code",
      "execution_count": null,
      "metadata": {
        "colab": {
          "base_uri": "https://localhost:8080/"
        },
        "id": "MVjuvrMhNUCX",
        "outputId": "2b410613-2c89-4f61-89a3-8af5e1816720"
      },
      "outputs": [
        {
          "name": "stdout",
          "output_type": "stream",
          "text": [
            "./regression/\n",
            "./regression/TomsHardware/\n",
            "./regression/TomsHardware/TomsHardware.data\n",
            "./regression/TomsHardware/TomsHardware.names\n",
            "./regression/Twitter/\n",
            "./regression/Twitter/Twitter.data\n",
            "./regression/Twitter/Twitter.names\n"
          ]
        }
      ],
      "source": [
        "!tar -xvzf /content/data/regression.tar.gz"
      ]
    },
    {
      "cell_type": "code",
      "execution_count": null,
      "metadata": {
        "id": "sMBxbna9Y_w1"
      },
      "outputs": [],
      "source": [
        "import os\n",
        "import time\n",
        "import matplotlib.pyplot as plt\n",
        "import seaborn as sns\n",
        "import pandas as pd\n",
        "import numpy as np\n",
        "import sklearn.ensemble as skle\n",
        "import sklearn.model_selection as sklms\n",
        "import sklearn.metrics as sklm\n",
        "import sklearn.linear_model as skllm\n",
        "import sklearn.tree as sklt"
      ]
    },
    {
      "cell_type": "code",
      "execution_count": null,
      "metadata": {
        "colab": {
          "base_uri": "https://localhost:8080/"
        },
        "id": "SuRfvwKzc40F",
        "outputId": "d83bcb0a-33ee-49df-cd6c-049dce76036c"
      },
      "outputs": [
        {
          "name": "stdout",
          "output_type": "stream",
          "text": [
            "Loading data\n"
          ]
        }
      ],
      "source": [
        "print('Loading data')\n",
        "data = pd.read_csv('/content/regression/Twitter/Twitter.data', sep = ',' , index_col = False, engine = 'python' )\n",
        "\n",
        "# Titles of the col so we know what is what\n",
        "# Built in time periods that is why there are numbers\n",
        "\n",
        "# data.columns = ['NCD_0', 'NCD_1', 'NCD_2', 'NCD_3', 'NCD_4', 'NCD_5', 'NCD_6', \n",
        "#                 'AI_0', 'AI_1', 'AI_2', 'AI_3', 'AI_4', 'AI_5', 'AI_6',\n",
        "#                 'AS(NA)_0', 'AS(NA)_1', 'AS(NA)_2', 'AS(NA)_3', 'AS(NA)_4' , 'AS(NA)_5', 'AS(NA)_6',\n",
        "#                 'BL_0', 'BL_1', 'BL_2', 'BL_3', 'BL_4', 'BL_5', 'BL_6',\n",
        "#                 'NAC_0', 'NAC_1', 'NAC_2', 'NAC_3', 'NAC_4', 'NAC_5', 'NAC_6',\n",
        "#                 'AS(NAC)_0', 'AS(NAC)_1', 'AS(NAC)_2', 'AS(NAC)_3', 'AS(NAC)_4', 'AS(NAC)_5', 'AS(NAC)_6',\n",
        "#                 'CS_0', 'CS_1', 'CS_2', 'CS_3', 'CS_4', 'CS_5', 'CS_6', \n",
        "#                 'AT_0', 'AT_1', 'AT_2', 'AT_3', 'AT_4', 'AT_5', 'AT_6',\n",
        "#                 'NA_0', 'NA_1', 'NA_2', 'NA_3', 'NA_4', 'NA_5', 'NA_6',\n",
        "#                 'ADL_0', 'ADL_1', 'ADL_2', 'ADL_3', 'ADL_4', 'ADL_5', 'ADL_6',\n",
        "#                 'NAD_0', 'NAD_1', 'NAD_2', 'NAD_3', 'NAD_4', 'NAD_5', 'NAD_6',\n",
        "#                 'NAD']"
      ]
    },
    {
      "cell_type": "code",
      "execution_count": null,
      "metadata": {
        "id": "hKlUntxlduXa"
      },
      "outputs": [],
      "source": [
        "xData = data.iloc[:, :77]\n",
        "yData = data.iloc[:, 77:]\n",
        "\n",
        "x_train, x_test, y_train, y_test = sklms.train_test_split(xData, yData, test_size = 0.25, random_state = 45, shuffle=True)\n",
        "\n",
        "x_train1, x_val, y_train1, y_val = sklms.train_test_split(x_train, y_train, test_size = 0.25, random_state = 243, shuffle = True)\n",
        "\n",
        "y_train = np.ravel(y_train)\n",
        "\n",
        "y_train1 = np.ravel(y_train1)\n",
        "y_val = np.ravel(y_val)"
      ]
    },
    {
      "cell_type": "code",
      "execution_count": null,
      "metadata": {
        "id": "MTWC7eake615"
      },
      "outputs": [],
      "source": [
        "linreg = skllm.LinearRegression()\n",
        "linreg.fit(x_train1,y_train1)\n",
        "print(linreg.predict(x_val))\n",
        "print(linreg.score(x_val, y_val))"
      ]
    },
    {
      "cell_type": "code",
      "execution_count": null,
      "metadata": {
        "id": "_b1s4v3JOQcR"
      },
      "outputs": [],
      "source": [
        " \n",
        "plt.scatter(x_train1, y_train1, color='red') # plotting the observation line\n",
        " \n",
        "plt.plot(x_train1, linreg.predict(x_train1), color='blue') # plotting the regression line\n",
        " \n",
        "# plt.title(\"Salary vs Experience (Training set)\") # stating the title of the graph\n",
        " \n",
        "# plt.xlabel(\"Years of experience\") # adding the name of x-axis\n",
        "# plt.ylabel(\"Salaries\") # adding the name of y-axis\n",
        "plt.show() # specifies end of graph"
      ]
    },
    {
      "cell_type": "code",
      "execution_count": null,
      "metadata": {
        "id": "FMXo7lXdOMfC"
      },
      "outputs": [],
      "source": [
        ""
      ]
    },
    {
      "cell_type": "code",
      "execution_count": null,
      "metadata": {
        "id": "BN0pTeAKlNB2"
      },
      "outputs": [],
      "source": [
        "#n_estimators = 5-12\n",
        "scores = []\n",
        "n_estimators = []\n",
        "for i in np.arange(1, 20, 1):\n",
        "  adareg = skle.AdaBoostRegressor(n_estimators=i)\n",
        "  adareg.fit(x_train1,y_train1)\n",
        "  print('n_estimators: ' + str(i))\n",
        "  adareg.predict(x_val)\n",
        "  s = adareg.score(x_val, y_val)\n",
        "  print(s)\n",
        "  n_estimators.append(i)\n",
        "  scores.append(s)\n",
        "\n",
        "print('--------------------------------------------------------------------------')"
      ]
    },
    {
      "cell_type": "code",
      "execution_count": null,
      "metadata": {
        "id": "cuj6eYOtnhTh"
      },
      "outputs": [],
      "source": [
        "max_value = max(scores)\n",
        "max_index = scores.index(max_value)\n",
        "print('Best value is ' + str(max_value) + ' with n_estimators equal to ' + str(n_estimators[max_index]))"
      ]
    },
    {
      "cell_type": "code",
      "execution_count": null,
      "metadata": {
        "colab": {
          "background_save": true
        },
        "id": "isVGjsR8tDTL",
        "outputId": "6c686b7b-84b9-40af-e1f5-070beb5f50a3"
      },
      "outputs": [
        {
          "name": "stdout",
          "output_type": "stream",
          "text": [
            "learning_rate: 0.001\n",
            "0.8852044783473049\n",
            "learning_rate: 0.051000000000000004\n",
            "0.8868319130275513\n",
            "learning_rate: 0.101\n",
            "0.8937096920262285\n",
            "learning_rate: 0.15100000000000002\n",
            "0.884375704806704\n",
            "learning_rate: 0.201\n",
            "0.8913089275077873\n",
            "learning_rate: 0.251\n",
            "0.8989129014926217\n",
            "learning_rate: 0.30100000000000005\n",
            "0.8898367382199074\n",
            "learning_rate: 0.35100000000000003\n",
            "0.8913343111854729\n",
            "learning_rate: 0.401\n",
            "0.8847220301872071\n",
            "learning_rate: 0.451\n",
            "0.8849130772797889\n",
            "learning_rate: 0.501\n",
            "0.8745734774267773\n",
            "learning_rate: 0.551\n",
            "0.8843741023584564\n",
            "learning_rate: 0.6010000000000001\n",
            "0.869791835990394\n",
            "learning_rate: 0.651\n",
            "0.8540824896978576\n",
            "learning_rate: 0.7010000000000001\n",
            "0.8736131039764728\n",
            "learning_rate: 0.751\n",
            "0.8809937960108176\n",
            "learning_rate: 0.801\n",
            "0.8695921574007254\n",
            "learning_rate: 0.8510000000000001\n",
            "0.875320199277486\n",
            "learning_rate: 0.901\n",
            "0.8479965430272488\n",
            "learning_rate: 0.9510000000000001\n",
            "0.8719074404446869\n",
            "--------------------------------------------------------------------------\n"
          ]
        }
      ],
      "source": [
        "#learning_rate: 0.5-1\n",
        "scores = []\n",
        "learning_rate = []\n",
        "for i in np.arange(0.001, 1, 0.05):\n",
        "  adareg = skle.AdaBoostRegressor(n_estimators = 10, learning_rate=i)\n",
        "  adareg.fit(x_train1,y_train1)\n",
        "  print('learning_rate: ' + str(i))\n",
        "  adareg.predict(x_val)\n",
        "  s = adareg.score(x_val, y_val)\n",
        "  print(s)\n",
        "  learning_rate.append(i)\n",
        "  scores.append(s)\n",
        "\n",
        "print('--------------------------------------------------------------------------')"
      ]
    },
    {
      "cell_type": "code",
      "execution_count": null,
      "metadata": {
        "colab": {
          "background_save": true
        },
        "id": "F9VbrtX3tTds",
        "outputId": "59577bf5-cb3f-480a-ab10-aa3112db661e"
      },
      "outputs": [
        {
          "name": "stdout",
          "output_type": "stream",
          "text": [
            "Best value is 0.8989129014926217 with learning_rate equal to 0.251\n"
          ]
        }
      ],
      "source": [
        "max_value = max(scores)\n",
        "max_index = scores.index(max_value)\n",
        "print('Best value is ' + str(max_value) + ' with learning_rate equal to ' + str(learning_rate[max_index]))"
      ]
    },
    {
      "cell_type": "code",
      "execution_count": null,
      "metadata": {
        "colab": {
          "background_save": true
        },
        "id": "E5tpLkVnuMuK",
        "outputId": "af362a21-3a35-47a6-d28e-fe4ea6d49f91"
      },
      "outputs": [
        {
          "name": "stdout",
          "output_type": "stream",
          "text": [
            "max_depth: 1\n",
            "-0.021918524297748876\n",
            "max_depth: 2\n",
            "0.6168511030461186\n",
            "max_depth: 3\n",
            "0.8373545752135371\n",
            "max_depth: 4\n",
            "0.8978932484725816\n",
            "max_depth: 5\n",
            "0.8971167315983849\n",
            "max_depth: 6\n",
            "0.9153982849181649\n",
            "max_depth: 7\n",
            "0.9130590581481632\n",
            "max_depth: 8\n",
            "0.9078424971236211\n",
            "max_depth: 9\n",
            "0.9130191761098859\n",
            "max_depth: 10\n",
            "0.907635278956412\n",
            "max_depth: 11\n",
            "0.91589931386418\n",
            "max_depth: 12\n",
            "0.9250785456642892\n",
            "max_depth: 13\n",
            "0.9162714433423462\n",
            "max_depth: 14\n",
            "0.9156950802307385\n",
            "max_depth: 15\n",
            "0.9132604841312146\n",
            "max_depth: 16\n",
            "0.9079460845898495\n",
            "max_depth: 17\n",
            "0.9139187802427173\n",
            "max_depth: 18\n",
            "0.9180413573416969\n",
            "max_depth: 19\n",
            "0.9189416553146473\n",
            "max_depth: 20\n",
            "0.9252431955828566\n",
            "max_depth: 21\n",
            "0.9118096756507494\n",
            "max_depth: 22\n",
            "0.9194345665387753\n",
            "max_depth: 23\n",
            "0.9238882676732891\n",
            "max_depth: 24\n",
            "0.9146400222633063\n",
            "max_depth: 25\n",
            "0.9060737787266396\n",
            "max_depth: 26\n",
            "0.9222877418895918\n",
            "max_depth: 27\n",
            "0.9177973447727505\n",
            "max_depth: 28\n",
            "0.9104408668040029\n",
            "max_depth: 29\n",
            "0.9188235911999788\n",
            "max_depth: 30\n",
            "0.9123850906116755\n",
            "--------------------------------------------------------------------------\n"
          ]
        }
      ],
      "source": [
        "#max_depth: 6-12\n",
        "scores = []\n",
        "max_depth = []\n",
        "for i in np.arange(1, 31, 1):\n",
        "  Dtr = sklt.DecisionTreeRegressor(max_depth = i)\n",
        "  adareg = skle.AdaBoostRegressor(base_estimator = Dtr, n_estimators = 10, learning_rate=0.7)\n",
        "  adareg.fit(x_train1,y_train1)\n",
        "  print('max_depth: ' + str(i))\n",
        "  adareg.predict(x_val)\n",
        "  s = adareg.score(x_val, y_val)\n",
        "  print(s)\n",
        "  max_depth.append(i)\n",
        "  scores.append(s)\n",
        "\n",
        "print('--------------------------------------------------------------------------')"
      ]
    },
    {
      "cell_type": "code",
      "execution_count": null,
      "metadata": {
        "colab": {
          "background_save": true
        },
        "id": "aQ3WzR8jvdHl"
      },
      "outputs": [],
      "source": [
        "max_value = max(scores)\n",
        "max_index = scores.index(max_value)\n",
        "print('Best value is ' + str(max_value) + ' with max_depth equal to ' + str(max_depth[max_index]))"
      ]
    },
    {
      "cell_type": "code",
      "execution_count": null,
      "metadata": {
        "colab": {
          "background_save": true
        },
        "id": "1BrPrG_dx26f"
      },
      "outputs": [],
      "source": [
        "\n",
        "scores = []\n",
        "max_depth = []\n",
        "for i in np.arange(1, 31, 1):\n",
        "  Dtr = sklt.DecisionTreeRegressor(max_depth = 8)\n",
        "  adareg = skle.AdaBoostRegressor(base_estimator = Dtr, n_estimators = 10, learning_rate=0.7)\n",
        "  adareg.fit(x_train1,y_train1)\n",
        "  print('max_depth: ' + str(i))\n",
        "  adareg.predict(x_val)\n",
        "  s = adareg.score(x_val, y_val)\n",
        "  print(s)\n",
        "  max_depth.append(i)\n",
        "  scores.append(s)\n",
        "\n",
        "print('--------------------------------------------------------------------------')"
      ]
    },
    {
      "cell_type": "code",
      "execution_count": null,
      "metadata": {
        "id": "4nzlmn_jzf9V"
      },
      "outputs": [],
      "source": [
        "  #THIS SHOULD BE YOUR TESTING MODEL FINAL\n",
        "  Dtr = sklt.DecisionTreeRegressor(max_depth = 8)\n",
        "  adareg = skle.AdaBoostRegressor(base_estimator = Dtr, n_estimators = 10, learning_rate=0.7)\n",
        "  "
      ]
    }
  ],
  "metadata": {
    "accelerator": "GPU",
    "colab": {
      "machine_shape": "hm",
      "name": "adaBoost_Twitter_v2.ipynb",
      "provenance": []
    },
    "kernelspec": {
      "display_name": "Python 3",
      "name": "python3"
    },
    "language_info": {
      "name": "python"
    }
  },
  "nbformat": 4,
  "nbformat_minor": 0
}